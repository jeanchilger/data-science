{
 "cells": [
  {
   "cell_type": "markdown",
   "id": "a633110f",
   "metadata": {},
   "source": [
    "Based on [Classify Text with BERT](https://www.tensorflow.org/text/tutorials/classify_text_with_bert?hl=en) tutorial."
   ]
  },
  {
   "cell_type": "code",
   "execution_count": 66,
   "id": "48df25ed",
   "metadata": {},
   "outputs": [],
   "source": [
    "import os\n",
    "import shutil\n",
    "\n",
    "import tensorflow as tf\n",
    "import tensorflow_hub as hub\n",
    "import tensorflow_text as text\n",
    "from official.nlp import optimization  # to create AdamW optimizer\n",
    "\n",
    "import matplotlib.pyplot as plt\n",
    "\n",
    "tf.get_logger().setLevel('ERROR')"
   ]
  },
  {
   "cell_type": "code",
   "execution_count": 67,
   "id": "ac252399",
   "metadata": {},
   "outputs": [
    {
     "data": {
      "text/plain": [
       "[PhysicalDevice(name='/physical_device:GPU:0', device_type='GPU')]"
      ]
     },
     "execution_count": 67,
     "metadata": {},
     "output_type": "execute_result"
    }
   ],
   "source": [
    "tf.config.list_physical_devices('GPU')"
   ]
  },
  {
   "cell_type": "markdown",
   "id": "37f4116a",
   "metadata": {},
   "source": [
    "## Dataset preparation"
   ]
  },
  {
   "cell_type": "markdown",
   "id": "f60e6438",
   "metadata": {},
   "source": [
    "The dataset used is IMDB reviews dataset (available at [Large Movie Review Dataset](https://ai.stanford.edu/~amaas/data/sentiment/))."
   ]
  },
  {
   "cell_type": "code",
   "execution_count": 68,
   "id": "df75e72f",
   "metadata": {},
   "outputs": [],
   "source": [
    "url = 'https://ai.stanford.edu/~amaas/data/sentiment/aclImdb_v1.tar.gz'\n",
    "\n",
    "dataset = tf.keras.utils.get_file(\n",
    "        'aclImdb_v1.tar.gz', url,\n",
    "        untar=True, cache_dir='.',\n",
    "        cache_subdir='')\n",
    "\n",
    "dataset_dir = os.path.join(os.path.dirname(dataset), 'aclImdb')\n",
    "\n",
    "train_dir = os.path.join(dataset_dir, 'train')\n",
    "\n",
    "# remove unused folders to make it easier to load the data\n",
    "remove_dir = os.path.join(train_dir, 'unsup')\n",
    "shutil.rmtree(remove_dir)"
   ]
  },
  {
   "cell_type": "markdown",
   "id": "d43f568a",
   "metadata": {},
   "source": [
    "Now the dataset is downloaded, the `text_dataset_from_directory` utillity can be used to create a labeled `tf.data.Dataset`."
   ]
  },
  {
   "cell_type": "code",
   "execution_count": 69,
   "id": "28518b15",
   "metadata": {},
   "outputs": [
    {
     "name": "stdout",
     "output_type": "stream",
     "text": [
      "Found 25000 files belonging to 2 classes.\n",
      "Using 20000 files for training.\n"
     ]
    }
   ],
   "source": [
    "AUTOTUNE = tf.data.AUTOTUNE\n",
    "batch_size = 32\n",
    "seed = 42\n",
    "\n",
    "raw_train_ds = tf.keras.utils.text_dataset_from_directory(\n",
    "    'aclImdb/train',\n",
    "    batch_size=batch_size,\n",
    "    validation_split=0.2,\n",
    "    subset='training',\n",
    "    seed=seed)\n",
    "\n",
    "class_names = raw_train_ds.class_names\n",
    "train_ds = raw_train_ds.cache().prefetch(buffer_size=AUTOTUNE)"
   ]
  },
  {
   "cell_type": "markdown",
   "id": "26f75b78",
   "metadata": {},
   "source": [
    "20% of the training data will be used to validation (the dataset has train and test sets but lacks a validation set)."
   ]
  },
  {
   "cell_type": "code",
   "execution_count": 70,
   "id": "3f38a5e0",
   "metadata": {},
   "outputs": [
    {
     "name": "stdout",
     "output_type": "stream",
     "text": [
      "Found 25000 files belonging to 2 classes.\n",
      "Using 5000 files for validation.\n"
     ]
    }
   ],
   "source": [
    "val_ds = tf.keras.utils.text_dataset_from_directory(\n",
    "    'aclImdb/train',\n",
    "    batch_size=batch_size,\n",
    "    validation_split=0.2,\n",
    "    subset='validation',\n",
    "    seed=seed)\n",
    "\n",
    "val_ds = val_ds.cache().prefetch(buffer_size=AUTOTUNE)"
   ]
  },
  {
   "cell_type": "code",
   "execution_count": 71,
   "id": "efd805ec",
   "metadata": {},
   "outputs": [
    {
     "name": "stdout",
     "output_type": "stream",
     "text": [
      "Found 25000 files belonging to 2 classes.\n"
     ]
    }
   ],
   "source": [
    "test_ds = tf.keras.utils.text_dataset_from_directory(\n",
    "    'aclImdb/test',\n",
    "    batch_size=batch_size)\n",
    "\n",
    "test_ds = test_ds.cache().prefetch(buffer_size=AUTOTUNE)"
   ]
  },
  {
   "cell_type": "markdown",
   "id": "eb56d895",
   "metadata": {},
   "source": [
    "Checking out some of the reviews:"
   ]
  },
  {
   "cell_type": "code",
   "execution_count": 72,
   "id": "915703b5",
   "metadata": {},
   "outputs": [
    {
     "name": "stdout",
     "output_type": "stream",
     "text": [
      "Review: b'\"Pandemonium\" is a horror movie spoof that comes off more stupid than funny. Believe me when I tell you, I love comedies. Especially comedy spoofs. \"Airplane\", \"The Naked Gun\" trilogy, \"Blazing Saddles\", \"High Anxiety\", and \"Spaceballs\" are some of my favorite comedies that spoof a particular genre. \"Pandemonium\" is not up there with those films. Most of the scenes in this movie had me sitting there in stunned silence because the movie wasn\\'t all that funny. There are a few laughs in the film, but when you watch a comedy, you expect to laugh a lot more than a few times and that\\'s all this film has going for it. Geez, \"Scream\" had more laughs than this film and that was more of a horror film. How bizarre is that?<br /><br />*1/2 (out of four)'\n",
      "Label : 0 (neg)\n",
      "\n",
      "Review: b\"David Mamet is a very interesting and a very un-equal director. His first movie 'House of Games' was the one I liked best, and it set a series of films with characters whose perspective of life changes as they get into complicated situations, and so does the perspective of the viewer.<br /><br />So is 'Homicide' which from the title tries to set the mind of the viewer to the usual crime drama. The principal characters are two cops, one Jewish and one Irish who deal with a racially charged area. The murder of an old Jewish shop owner who proves to be an ancient veteran of the Israeli Independence war triggers the Jewish identity in the mind and heart of the Jewish detective.<br /><br />This is were the flaws of the film are the more obvious. The process of awakening is theatrical and hard to believe, the group of Jewish militants is operatic, and the way the detective eventually walks to the final violent confrontation is pathetic. The end of the film itself is Mamet-like smart, but disappoints from a human emotional perspective.<br /><br />Joe Mantegna and William Macy give strong performances, but the flaws of the story are too evident to be easily compensated.\"\n",
      "Label : 0 (neg)\n",
      "\n",
      "Review: b'Great documentary about the lives of NY firefighters during the worst terrorist attack of all time.. That reason alone is why this should be a must see collectors item.. What shocked me was not only the attacks, but the\"High Fat Diet\" and physical appearance of some of these firefighters. I think a lot of Doctors would agree with me that,in the physical shape they were in, some of these firefighters would NOT of made it to the 79th floor carrying over 60 lbs of gear. Having said that i now have a greater respect for firefighters and i realize becoming a firefighter is a life altering job. The French have a history of making great documentary\\'s and that is what this is, a Great Documentary.....'\n",
      "Label : 1 (pos)\n",
      "\n"
     ]
    },
    {
     "name": "stderr",
     "output_type": "stream",
     "text": [
      "2021-12-09 11:28:03.342109: W tensorflow/core/kernels/data/cache_dataset_ops.cc:768] The calling iterator did not fully read the dataset being cached. In order to avoid unexpected truncation of the dataset, the partially cached contents of the dataset  will be discarded. This can happen if you have an input pipeline similar to `dataset.cache().take(k).repeat()`. You should use `dataset.take(k).cache().repeat()` instead.\n"
     ]
    }
   ],
   "source": [
    "for text_batch, label_batch in train_ds.take(1):\n",
    "    # we'll print 3 reviews from the batch\n",
    "    for i in range(3):\n",
    "        print(f'Review: {text_batch.numpy()[i]}')\n",
    "        label = label_batch.numpy()[i]\n",
    "        print(f'Label : {label} ({class_names[label]})')\n",
    "        print()"
   ]
  },
  {
   "cell_type": "markdown",
   "id": "a4db2efb",
   "metadata": {},
   "source": [
    "## Loading models (using `tfhub`)"
   ]
  },
  {
   "cell_type": "markdown",
   "id": "54dbdeea",
   "metadata": {},
   "source": [
    "A BERT model may be downloaded from the [tensorflow hub](https://tfhub.dev/google/collections/bert/1) along with the preprocessing pipeline used.\n",
    "\n",
    "The architecture of choice will be Small BERT - the same as BERT but with a reduced size."
   ]
  },
  {
   "cell_type": "code",
   "execution_count": 92,
   "id": "954e6944",
   "metadata": {},
   "outputs": [],
   "source": [
    "model_size = [\n",
    "    (2, 128, 2),\n",
    "    (6, 256, 4),\n",
    "    (10, 256, 4),\n",
    "    (2, 768, 12),\n",
    "    (12, 768, 12),\n",
    "][2]\n",
    "\n",
    "# Number of layers (i.e., residual blocks)\n",
    "L = model_size[0]\n",
    "\n",
    "# Size of hidden layers\n",
    "H = model_size[1]\n",
    "\n",
    "# Number of attention heads\n",
    "A = model_size[2]\n",
    "\n",
    "tfhub_handle_encoder = f\"https://tfhub.dev/tensorflow/small_bert/bert_en_uncased_L-{L}_H-{H}_A-{A}/2\"\n",
    "tfhub_handle_preprocess = \"https://tfhub.dev/tensorflow/bert_en_uncased_preprocess/3\""
   ]
  },
  {
   "cell_type": "markdown",
   "id": "5733e87b",
   "metadata": {},
   "source": [
    "## The preprocessing model"
   ]
  },
  {
   "cell_type": "markdown",
   "id": "6e54f23c",
   "metadata": {},
   "source": [
    "Along with the BERT model, TensorFlow hub provides a preprocessing model, which implements the proper transformation from text to token ids tensors using the `tensorflow_text` library."
   ]
  },
  {
   "cell_type": "code",
   "execution_count": 93,
   "id": "8caf57d3",
   "metadata": {},
   "outputs": [],
   "source": [
    "bert_preprocess_model = hub.KerasLayer(tfhub_handle_preprocess)"
   ]
  },
  {
   "cell_type": "code",
   "execution_count": 94,
   "id": "6eab570d",
   "metadata": {},
   "outputs": [
    {
     "name": "stdout",
     "output_type": "stream",
     "text": [
      "Keys       : ['input_word_ids', 'input_type_ids', 'input_mask']\n",
      "Shape      : (1, 128)\n",
      "Word Ids   : [ 101 2023 2003 2107 2019 6429 3185  999  102    0    0    0]\n",
      "Input Mask : [1 1 1 1 1 1 1 1 1 0 0 0]\n",
      "Type Ids   : [0 0 0 0 0 0 0 0 0 0 0 0]\n"
     ]
    }
   ],
   "source": [
    "text_test = ['this is such an amazing movie!']\n",
    "text_preprocessed = bert_preprocess_model(text_test)\n",
    "\n",
    "print(f'Keys       : {list(text_preprocessed.keys())}')\n",
    "print(f'Shape      : {text_preprocessed[\"input_word_ids\"].shape}')\n",
    "print(f'Word Ids   : {text_preprocessed[\"input_word_ids\"][0, :12]}')\n",
    "print(f'Input Mask : {text_preprocessed[\"input_mask\"][0, :12]}')\n",
    "print(f'Type Ids   : {text_preprocessed[\"input_type_ids\"][0, :12]}')"
   ]
  },
  {
   "cell_type": "markdown",
   "id": "c7e411c7",
   "metadata": {},
   "source": [
    "## The BERT model"
   ]
  },
  {
   "cell_type": "markdown",
   "id": "a0928f17",
   "metadata": {},
   "source": [
    "Similarly, the model can be loaded from the hub:"
   ]
  },
  {
   "cell_type": "code",
   "execution_count": 95,
   "id": "2910958a",
   "metadata": {},
   "outputs": [
    {
     "name": "stderr",
     "output_type": "stream",
     "text": [
      "2021-12-09 11:37:39.315415: W tensorflow/core/framework/cpu_allocator_impl.cc:82] Allocation of 31254528 exceeds 10% of free system memory.\n"
     ]
    }
   ],
   "source": [
    "bert_model = hub.KerasLayer(tfhub_handle_encoder)"
   ]
  },
  {
   "cell_type": "code",
   "execution_count": 96,
   "id": "cf6d32e6",
   "metadata": {},
   "outputs": [
    {
     "name": "stdout",
     "output_type": "stream",
     "text": [
      "Loaded BERT: https://tfhub.dev/tensorflow/small_bert/bert_en_uncased_L-10_H-256_A-4/2\n",
      "Pooled Outputs Shape:(1, 256)\n",
      "Pooled Outputs Values:[-0.7879708  -0.9383287  -0.95473474  0.12199635 -0.98650354 -0.19943495\n",
      "  0.9937595  -0.6590786  -0.5271129  -0.2015335  -0.02217429 -0.10342671]\n",
      "Sequence Outputs Shape:(1, 128, 256)\n",
      "Sequence Outputs Values:[[-0.35101765 -1.5343672  -1.4084662  ... -0.09103579  1.2868212\n",
      "  -1.2302024 ]\n",
      " [-0.7954335  -0.625459   -0.83403933 ...  0.2611619   0.03758661\n",
      "  -1.375447  ]\n",
      " [-0.68285197 -1.3764191  -0.08770373 ... -0.12340521 -1.1826388\n",
      "  -0.78137594]\n",
      " ...\n",
      " [-0.5738981  -1.1032774  -0.02026872 ... -0.10513059  1.0499821\n",
      "  -1.3271617 ]\n",
      " [-1.201097   -1.1889203  -0.09465046 ... -0.519938    0.73235196\n",
      "  -1.0466349 ]\n",
      " [-1.2833421  -0.47457165 -1.3244356  ... -0.2879182   0.18061003\n",
      "   0.1442744 ]]\n"
     ]
    }
   ],
   "source": [
    "bert_results = bert_model(text_preprocessed)\n",
    "\n",
    "print(f'Loaded BERT: {tfhub_handle_encoder}')\n",
    "print(f'Pooled Outputs Shape:{bert_results[\"pooled_output\"].shape}')\n",
    "print(f'Pooled Outputs Values:{bert_results[\"pooled_output\"][0, :12]}')\n",
    "print(f'Sequence Outputs Shape:{bert_results[\"sequence_output\"].shape}')\n",
    "print(f'Sequence Outputs Values:{bert_results[\"sequence_output\"][0, :12]}')"
   ]
  },
  {
   "cell_type": "markdown",
   "id": "39403b5d",
   "metadata": {},
   "source": [
    "The model outputs three important values:\n",
    "\n",
    "- `pooled_output`: Represents the sentence as a whole. Has shape `(batch_size, H)`\n",
    "- `sequence_output`: Represents each token in the sequence. Has shape `(batch_size, max_sequence_length, H)`\n",
    "- `encoder_outputs`: Are the intermediate activations of the L Transformer blocks. `outputs[\"encoder_outputs\"][i]` is a Tensor of shape `(batch_size, seq_length, 1024)` with the outputs of the i-th Transformer block, for `0 <= i < L`. The last value of the list is equal to `sequence_output`"
   ]
  },
  {
   "cell_type": "markdown",
   "id": "8d765099",
   "metadata": {},
   "source": [
    "## Define the model"
   ]
  },
  {
   "cell_type": "markdown",
   "id": "1fdb363f",
   "metadata": {},
   "source": [
    "Based on the pretrained model and the preprocess model, we'll build a simple model for fine-tuning."
   ]
  },
  {
   "cell_type": "code",
   "execution_count": 97,
   "id": "c9cf28d5",
   "metadata": {},
   "outputs": [],
   "source": [
    "def build_classifier_model():\n",
    "    text_input = tf.keras.layers.Input(shape=(), dtype=tf.string, name='text')\n",
    "    preprocessing_layer = hub.KerasLayer(tfhub_handle_preprocess, name='preprocessing')\n",
    "    encoder_inputs = preprocessing_layer(text_input)\n",
    "    encoder = hub.KerasLayer(tfhub_handle_encoder, trainable=True, name='BERT_encoder')\n",
    "    outputs = encoder(encoder_inputs)\n",
    "    net = outputs['pooled_output']\n",
    "    net = tf.keras.layers.Dropout(0.1)(net)\n",
    "    net = tf.keras.layers.Dense(1, activation=None, name='classifier')(net)\n",
    "    \n",
    "    return tf.keras.Model(text_input, net)"
   ]
  },
  {
   "cell_type": "code",
   "execution_count": 98,
   "id": "259ba413",
   "metadata": {},
   "outputs": [
    {
     "name": "stderr",
     "output_type": "stream",
     "text": [
      "2021-12-09 11:37:45.933409: W tensorflow/core/framework/cpu_allocator_impl.cc:82] Allocation of 31254528 exceeds 10% of free system memory.\n"
     ]
    },
    {
     "name": "stdout",
     "output_type": "stream",
     "text": [
      "tf.Tensor([[0.7995726]], shape=(1, 1), dtype=float32)\n"
     ]
    }
   ],
   "source": [
    "classifier_model = build_classifier_model()\n",
    "\n",
    "text_test = ['this is such an amazing movie!']\n",
    "bert_raw_result = classifier_model(tf.constant(text_test))\n",
    "\n",
    "print(tf.sigmoid(bert_raw_result))"
   ]
  },
  {
   "cell_type": "markdown",
   "id": "427e362b",
   "metadata": {},
   "source": [
    "The output is meaningless, the model isn't traned for classification yet. But it tells us that the model is working!"
   ]
  },
  {
   "cell_type": "markdown",
   "id": "2ed154b5",
   "metadata": {},
   "source": [
    "We can also plot the model structure:"
   ]
  },
  {
   "cell_type": "code",
   "execution_count": 99,
   "id": "7fe8986c",
   "metadata": {},
   "outputs": [
    {
     "data": {
      "image/png": "[encoded data removed]",
      "text/plain": [
       "<IPython.core.display.Image object>"
      ]
     },
     "execution_count": 99,
     "metadata": {},
     "output_type": "execute_result"
    }
   ],
   "source": [
    "tf.keras.utils.plot_model(classifier_model)"
   ]
  },
  {
   "cell_type": "markdown",
   "id": "808ca2b5",
   "metadata": {},
   "source": [
    "## Model training"
   ]
  },
  {
   "cell_type": "markdown",
   "id": "9af3e6e9",
   "metadata": {},
   "source": [
    "Now we may perform the training on the collected data from IMDb."
   ]
  },
  {
   "cell_type": "markdown",
   "id": "2f699415",
   "metadata": {},
   "source": [
    "### Loss function"
   ]
  },
  {
   "cell_type": "markdown",
   "id": "aa72f560",
   "metadata": {},
   "source": [
    "The problem at hand is a binary text classification, and the model will output a single probability value. Therefore we shall use a `BinaryCrossentropy` loss."
   ]
  },
  {
   "cell_type": "code",
   "execution_count": 100,
   "id": "56081364",
   "metadata": {},
   "outputs": [],
   "source": [
    "loss = tf.keras.losses.BinaryCrossentropy(from_logits=True)\n",
    "metrics = tf.metrics.BinaryAccuracy()"
   ]
  },
  {
   "cell_type": "markdown",
   "id": "6534e629",
   "metadata": {},
   "source": [
    "### Optimizer"
   ]
  },
  {
   "cell_type": "markdown",
   "id": "677ebc06",
   "metadata": {},
   "source": [
    "We'll be using `AdamW` optimizer."
   ]
  },
  {
   "cell_type": "code",
   "execution_count": 101,
   "id": "888b597d",
   "metadata": {},
   "outputs": [],
   "source": [
    "epochs = 5\n",
    "steps_per_epoch = tf.data.experimental.cardinality(train_ds).numpy()\n",
    "num_train_steps = steps_per_epoch * epochs\n",
    "num_warmup_steps = int(0.1*num_train_steps)\n",
    "\n",
    "init_lr = 3e-5\n",
    "optimizer = optimization.create_optimizer(\n",
    "        init_lr=init_lr, num_train_steps=num_train_steps,\n",
    "        num_warmup_steps=num_warmup_steps, optimizer_type='adamw')"
   ]
  },
  {
   "cell_type": "markdown",
   "id": "9e151f7d",
   "metadata": {},
   "source": [
    "### Compiling the model and training"
   ]
  },
  {
   "cell_type": "markdown",
   "id": "643a055a",
   "metadata": {},
   "source": [
    "With everything ready, we can prepare the model and train it."
   ]
  },
  {
   "cell_type": "code",
   "execution_count": 102,
   "id": "a0200ebd",
   "metadata": {},
   "outputs": [],
   "source": [
    "classifier_model.compile(\n",
    "        optimizer=optimizer, loss=loss,\n",
    "        metrics=metrics)"
   ]
  },
  {
   "cell_type": "code",
   "execution_count": 103,
   "id": "aa14834a",
   "metadata": {},
   "outputs": [
    {
     "name": "stdout",
     "output_type": "stream",
     "text": [
      "Training model with https://tfhub.dev/tensorflow/small_bert/bert_en_uncased_L-10_H-256_A-4/2\n",
      "Epoch 1/5\n",
      "625/625 [==============================] - 194s 298ms/step - loss: 0.5240 - binary_accuracy: 0.7193 - val_loss: 0.4149 - val_binary_accuracy: 0.8274\n",
      "Epoch 2/5\n",
      "625/625 [==============================] - 187s 299ms/step - loss: 0.3541 - binary_accuracy: 0.8382 - val_loss: 0.3735 - val_binary_accuracy: 0.8366\n",
      "Epoch 3/5\n",
      "625/625 [==============================] - 187s 299ms/step - loss: 0.2891 - binary_accuracy: 0.8758 - val_loss: 0.3737 - val_binary_accuracy: 0.8416\n",
      "Epoch 4/5\n",
      "625/625 [==============================] - 186s 298ms/step - loss: 0.2434 - binary_accuracy: 0.8983 - val_loss: 0.3931 - val_binary_accuracy: 0.8424\n",
      "Epoch 5/5\n",
      "625/625 [==============================] - 186s 298ms/step - loss: 0.2084 - binary_accuracy: 0.9166 - val_loss: 0.4294 - val_binary_accuracy: 0.8448\n"
     ]
    }
   ],
   "source": [
    "print(f'Training model with {tfhub_handle_encoder}')\n",
    "\n",
    "history = []\n",
    "\n",
    "history = classifier_model.fit(\n",
    "        x=train_ds, validation_data=val_ds,\n",
    "        epochs=epochs)"
   ]
  },
  {
   "cell_type": "markdown",
   "id": "9968a3bb",
   "metadata": {},
   "source": [
    "### Evaluate the model"
   ]
  },
  {
   "cell_type": "code",
   "execution_count": 85,
   "id": "110b90e6",
   "metadata": {},
   "outputs": [
    {
     "name": "stdout",
     "output_type": "stream",
     "text": [
      "782/782 [==============================] - 30s 38ms/step - loss: 0.4408 - binary_accuracy: 0.7896\n",
      "Loss: 0.44083836674690247\n",
      "Accuracy: 0.7896000146865845\n"
     ]
    }
   ],
   "source": [
    "loss, accuracy = classifier_model.evaluate(test_ds)\n",
    "\n",
    "print(f'Loss: {loss}')\n",
    "print(f'Accuracy: {accuracy}')"
   ]
  },
  {
   "cell_type": "markdown",
   "id": "27ba66b7",
   "metadata": {},
   "source": [
    "### Plotting the accuracy and loss"
   ]
  },
  {
   "cell_type": "code",
   "execution_count": 86,
   "id": "9eb16583",
   "metadata": {},
   "outputs": [
    {
     "name": "stdout",
     "output_type": "stream",
     "text": [
      "dict_keys(['loss', 'binary_accuracy', 'val_loss', 'val_binary_accuracy'])\n"
     ]
    },
    {
     "data": {
      "text/plain": [
       "<matplotlib.legend.Legend at 0x7f5a35abd3a0>"
      ]
     },
     "execution_count": 86,
     "metadata": {},
     "output_type": "execute_result"
    },
    {
     "data": {
      "image/png": "[encoded data removed]",
      "text/plain": [
       "<Figure size 720x432 with 2 Axes>"
      ]
     },
     "metadata": {
      "needs_background": "light"
     },
     "output_type": "display_data"
    }
   ],
   "source": [
    "history_dict = history.history\n",
    "print(history_dict.keys())\n",
    "\n",
    "acc = history_dict['binary_accuracy']\n",
    "val_acc = history_dict['val_binary_accuracy']\n",
    "loss = history_dict['loss']\n",
    "val_loss = history_dict['val_loss']\n",
    "\n",
    "epochs = range(1, len(acc) + 1)\n",
    "fig = plt.figure(figsize=(10, 6))\n",
    "fig.tight_layout()\n",
    "\n",
    "plt.subplot(2, 1, 1)\n",
    "# r is for \"solid red line\"\n",
    "plt.plot(epochs, loss, 'r', label='Training loss')\n",
    "# b is for \"solid blue line\"\n",
    "plt.plot(epochs, val_loss, 'b', label='Validation loss')\n",
    "plt.title('Training and validation loss')\n",
    "# plt.xlabel('Epochs')\n",
    "plt.ylabel('Loss')\n",
    "plt.legend()\n",
    "\n",
    "plt.subplot(2, 1, 2)\n",
    "plt.plot(epochs, acc, 'r', label='Training acc')\n",
    "plt.plot(epochs, val_acc, 'b', label='Validation acc')\n",
    "plt.title('Training and validation accuracy')\n",
    "plt.xlabel('Epochs')\n",
    "plt.ylabel('Accuracy')\n",
    "plt.legend(loc='lower right')"
   ]
  },
  {
   "cell_type": "markdown",
   "id": "b9813d52",
   "metadata": {},
   "source": [
    "### Loading and reloading the model"
   ]
  },
  {
   "cell_type": "markdown",
   "id": "2b71f490",
   "metadata": {},
   "source": [
    "We can save the model for later usage."
   ]
  },
  {
   "cell_type": "code",
   "execution_count": 87,
   "id": "1faac6e8",
   "metadata": {},
   "outputs": [
    {
     "name": "stderr",
     "output_type": "stream",
     "text": [
      "WARNING:absl:Found untraced functions such as restored_function_body, restored_function_body, restored_function_body, restored_function_body, restored_function_body while saving (showing 5 of 165). These functions will not be directly callable after loading.\n"
     ]
    }
   ],
   "source": [
    "dataset_name = 'imdb'\n",
    "saved_model_path = './_models/{}_bert'.format(dataset_name.replace('/', '_'))\n",
    "\n",
    "classifier_model.save(saved_model_path, include_optimizer=False)"
   ]
  },
  {
   "cell_type": "code",
   "execution_count": 88,
   "id": "39bf1187",
   "metadata": {},
   "outputs": [],
   "source": [
    "reloaded_model = tf.saved_model.load(saved_model_path)"
   ]
  },
  {
   "cell_type": "code",
   "execution_count": 89,
   "id": "1da5aee8",
   "metadata": {},
   "outputs": [
    {
     "name": "stdout",
     "output_type": "stream",
     "text": [
      "Results from the saved model:\n",
      "input: this is such an amazing movie! : score: 0.979086\n",
      "input: The movie was great!           : score: 0.955941\n",
      "input: The movie was meh.             : score: 0.839336\n",
      "input: The movie was okish.           : score: 0.347304\n",
      "input: The movie was terrible...      : score: 0.072250\n",
      "\n",
      "Results from the model in memory:\n",
      "input: this is such an amazing movie! : score: 0.979086\n",
      "input: The movie was great!           : score: 0.955941\n",
      "input: The movie was meh.             : score: 0.839336\n",
      "input: The movie was okish.           : score: 0.347304\n",
      "input: The movie was terrible...      : score: 0.072250\n",
      "\n"
     ]
    }
   ],
   "source": [
    "def print_my_examples(inputs, results):\n",
    "    result_for_printing = \\\n",
    "        [f'input: {inputs[i]:<30} : score: {results[i][0]:.6f}'\n",
    "                         for i in range(len(inputs))]\n",
    "    print(*result_for_printing, sep='\\n')\n",
    "    print()\n",
    "\n",
    "\n",
    "examples = [\n",
    "    'this is such an amazing movie!',  # this is the same sentence tried earlier\n",
    "    'The movie was great!',\n",
    "    'The movie was meh.',\n",
    "    'The movie was okish.',\n",
    "    'The movie was terrible...'\n",
    "]\n",
    "\n",
    "reloaded_results = tf.sigmoid(reloaded_model(tf.constant(examples)))\n",
    "original_results = tf.sigmoid(classifier_model(tf.constant(examples)))\n",
    "\n",
    "print('Results from the saved model:')\n",
    "print_my_examples(examples, reloaded_results)\n",
    "print('Results from the model in memory:')\n",
    "print_my_examples(examples, original_results)"
   ]
  }
 ],
 "metadata": {
  "kernelspec": {
   "display_name": "Python 3 (ipykernel)",
   "language": "python",
   "name": "python3"
  },
  "language_info": {
   "codemirror_mode": {
    "name": "ipython",
    "version": 3
   },
   "file_extension": ".py",
   "mimetype": "text/x-python",
   "name": "python",
   "nbconvert_exporter": "python",
   "pygments_lexer": "ipython3",
   "version": "3.9.7"
  }
 },
 "nbformat": 4,
 "nbformat_minor": 5
}
