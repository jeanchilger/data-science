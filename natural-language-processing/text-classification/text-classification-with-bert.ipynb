{
 "cells": [
  {
   "cell_type": "markdown",
   "id": "a633110f",
   "metadata": {},
   "source": [
    "Based on [Classify Text with BERT](https://www.tensorflow.org/text/tutorials/classify_text_with_bert?hl=en) tutorial."
   ]
  },
  {
   "cell_type": "code",
   "execution_count": 1,
   "id": "48df25ed",
   "metadata": {},
   "outputs": [],
   "source": [
    "import os\n",
    "import shutil\n",
    "\n",
    "import tensorflow as tf\n",
    "import tensorflow_hub as hub\n",
    "import tensorflow_text as text\n",
    "from official.nlp import optimization  # to create AdamW optimizer\n",
    "\n",
    "import matplotlib.pyplot as plt\n",
    "\n",
    "tf.get_logger().setLevel('ERROR')"
   ]
  }
 ],
 "metadata": {
  "kernelspec": {
   "display_name": "Python 3 (ipykernel)",
   "language": "python",
   "name": "python3"
  },
  "language_info": {
   "codemirror_mode": {
    "name": "ipython",
    "version": 3
   },
   "file_extension": ".py",
   "mimetype": "text/x-python",
   "name": "python",
   "nbconvert_exporter": "python",
   "pygments_lexer": "ipython3",
   "version": "3.9.7"
  }
 },
 "nbformat": 4,
 "nbformat_minor": 5
}
