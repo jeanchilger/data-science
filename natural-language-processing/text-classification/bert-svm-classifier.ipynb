{
 "cells": [
  {
   "cell_type": "markdown",
   "id": "839dd11b",
   "metadata": {},
   "source": [
    "# Classifying text with BERT and SVM"
   ]
  },
  {
   "cell_type": "markdown",
   "id": "c51d3ba1",
   "metadata": {},
   "source": [
    "In this approach, we'll use BERT embeddings as input features to a SVM classifier."
   ]
  },
  {
   "cell_type": "code",
   "execution_count": 1,
   "id": "3ca4037a",
   "metadata": {},
   "outputs": [],
   "source": [
    "import os\n",
    "import shutil\n",
    "import re\n",
    "import numpy as np\n",
    "\n",
    "import tensorflow as tf\n",
    "import tensorflow_hub as hub\n",
    "import tensorflow_text as text\n",
    "\n",
    "import matplotlib.pyplot as plt\n",
    "\n",
    "from sklearn import svm\n",
    "from sklearn.metrics import accuracy_score\n",
    "from sklearn.feature_extraction.text import TfidfVectorizer\n",
    "from sklearn.feature_extraction.text import ENGLISH_STOP_WORDS\n",
    "\n",
    "from nltk.tokenize import word_tokenize\n",
    "from nltk.stem.porter import PorterStemmer\n",
    "\n",
    "from bs4 import BeautifulSoup\n",
    "\n",
    "from tqdm.notebook import tqdm\n",
    "\n",
    "from transformers import AutoTokenizer, TFAutoModel\n",
    "\n",
    "tf.get_logger().setLevel('ERROR')"
   ]
  },
  {
   "cell_type": "markdown",
   "id": "cfbeed4e",
   "metadata": {},
   "source": [
    "## Dataset"
   ]
  },
  {
   "cell_type": "markdown",
   "id": "459b82be",
   "metadata": {},
   "source": [
    "The dataset used is the IMDb reviews dataset (available at [Large Movie Review Dataset](https://ai.stanford.edu/~amaas/data/sentiment/))."
   ]
  },
  {
   "cell_type": "code",
   "execution_count": 2,
   "id": "b5dbcf00",
   "metadata": {},
   "outputs": [],
   "source": [
    "url = 'https://ai.stanford.edu/~amaas/data/sentiment/aclImdb_v1.tar.gz'\n",
    "\n",
    "dataset = tf.keras.utils.get_file(\n",
    "        'aclImdb_v1.tar.gz', url,\n",
    "        untar=True, cache_dir='../../data/aclImdb',\n",
    "        cache_subdir='')\n",
    "\n",
    "dataset_dir = os.path.join(os.path.dirname(dataset), 'aclImdb')\n",
    "\n",
    "train_dir = os.path.join(dataset_dir, 'train')\n",
    "\n",
    "# remove unused folders to make it easier to load the data\n",
    "remove_dir = os.path.join(train_dir, 'unsup')\n",
    "shutil.rmtree(remove_dir)"
   ]
  },
  {
   "cell_type": "markdown",
   "id": "d7e3b368",
   "metadata": {},
   "source": [
    "The raw dataset has train and test sets, but lacks a validation set. 20% of train set will be used to validation."
   ]
  },
  {
   "cell_type": "code",
   "execution_count": 3,
   "id": "b1441f7c",
   "metadata": {},
   "outputs": [
    {
     "name": "stdout",
     "output_type": "stream",
     "text": [
      "Found 25000 files belonging to 2 classes.\n",
      "Using 20000 files for training.\n"
     ]
    },
    {
     "name": "stderr",
     "output_type": "stream",
     "text": [
      "2021-12-19 17:46:40.246716: I tensorflow/stream_executor/cuda/cuda_gpu_executor.cc:939] successful NUMA node read from SysFS had negative value (-1), but there must be at least one NUMA node, so returning NUMA node zero\n",
      "2021-12-19 17:46:40.247211: I tensorflow/stream_executor/cuda/cuda_gpu_executor.cc:939] successful NUMA node read from SysFS had negative value (-1), but there must be at least one NUMA node, so returning NUMA node zero\n",
      "2021-12-19 17:46:40.247329: I tensorflow/stream_executor/cuda/cuda_gpu_executor.cc:939] successful NUMA node read from SysFS had negative value (-1), but there must be at least one NUMA node, so returning NUMA node zero\n",
      "2021-12-19 17:46:40.247606: I tensorflow/core/platform/cpu_feature_guard.cc:151] This TensorFlow binary is optimized with oneAPI Deep Neural Network Library (oneDNN) to use the following CPU instructions in performance-critical operations:  AVX2 FMA\n",
      "To enable them in other operations, rebuild TensorFlow with the appropriate compiler flags.\n",
      "2021-12-19 17:46:40.247845: I tensorflow/stream_executor/cuda/cuda_gpu_executor.cc:939] successful NUMA node read from SysFS had negative value (-1), but there must be at least one NUMA node, so returning NUMA node zero\n",
      "2021-12-19 17:46:40.247966: I tensorflow/stream_executor/cuda/cuda_gpu_executor.cc:939] successful NUMA node read from SysFS had negative value (-1), but there must be at least one NUMA node, so returning NUMA node zero\n",
      "2021-12-19 17:46:40.248077: I tensorflow/stream_executor/cuda/cuda_gpu_executor.cc:939] successful NUMA node read from SysFS had negative value (-1), but there must be at least one NUMA node, so returning NUMA node zero\n",
      "2021-12-19 17:46:42.219015: I tensorflow/stream_executor/cuda/cuda_gpu_executor.cc:939] successful NUMA node read from SysFS had negative value (-1), but there must be at least one NUMA node, so returning NUMA node zero\n",
      "2021-12-19 17:46:42.219177: I tensorflow/stream_executor/cuda/cuda_gpu_executor.cc:939] successful NUMA node read from SysFS had negative value (-1), but there must be at least one NUMA node, so returning NUMA node zero\n",
      "2021-12-19 17:46:42.219290: I tensorflow/stream_executor/cuda/cuda_gpu_executor.cc:939] successful NUMA node read from SysFS had negative value (-1), but there must be at least one NUMA node, so returning NUMA node zero\n",
      "2021-12-19 17:46:42.219405: I tensorflow/core/common_runtime/gpu/gpu_device.cc:1525] Created device /job:localhost/replica:0/task:0/device:GPU:0 with 1241 MB memory:  -> device: 0, name: NVIDIA GeForce GTX 1650 Ti, pci bus id: 0000:01:00.0, compute capability: 7.5\n"
     ]
    }
   ],
   "source": [
    "AUTOTUNE = tf.data.AUTOTUNE\n",
    "batch_size = 12\n",
    "seed = 42\n",
    "\n",
    "raw_train_ds = tf.keras.utils.text_dataset_from_directory(\n",
    "    os.path.join(dataset_dir, 'train'),\n",
    "    batch_size=batch_size,\n",
    "    validation_split=0.2,\n",
    "    subset='training',\n",
    "    seed=seed)\n",
    "\n",
    "class_names = raw_train_ds.class_names\n",
    "train_ds = raw_train_ds.cache().prefetch(buffer_size=AUTOTUNE)"
   ]
  },
  {
   "cell_type": "code",
   "execution_count": 4,
   "id": "2ed62535",
   "metadata": {},
   "outputs": [
    {
     "name": "stdout",
     "output_type": "stream",
     "text": [
      "Found 25000 files belonging to 2 classes.\n",
      "Using 5000 files for validation.\n"
     ]
    }
   ],
   "source": [
    "val_ds = tf.keras.utils.text_dataset_from_directory(\n",
    "    os.path.join(dataset_dir, 'train'),\n",
    "    batch_size=batch_size,\n",
    "    validation_split=0.2,\n",
    "    subset='validation',\n",
    "    seed=seed)\n",
    "\n",
    "val_ds = val_ds.cache().prefetch(buffer_size=AUTOTUNE)"
   ]
  },
  {
   "cell_type": "code",
   "execution_count": 5,
   "id": "be6ff046",
   "metadata": {},
   "outputs": [
    {
     "name": "stdout",
     "output_type": "stream",
     "text": [
      "Found 25000 files belonging to 2 classes.\n"
     ]
    }
   ],
   "source": [
    "test_ds = tf.keras.utils.text_dataset_from_directory(\n",
    "    os.path.join(dataset_dir, 'test'),\n",
    "    batch_size=batch_size)\n",
    "\n",
    "test_ds = test_ds.cache().prefetch(buffer_size=AUTOTUNE)"
   ]
  },
  {
   "cell_type": "markdown",
   "id": "f3f6173e",
   "metadata": {},
   "source": [
    "Analyze some of the reviews to ensure everything is working so far:"
   ]
  },
  {
   "cell_type": "code",
   "execution_count": 6,
   "id": "2c617aab",
   "metadata": {},
   "outputs": [
    {
     "name": "stdout",
     "output_type": "stream",
     "text": [
      "Review: b'Mr Perlman gives a standout performance (as usual). Sadly, he has to struggle with an underwritten script and some nonsensical set pieces.<br /><br />Larsen is in \"Die Hard\" mode complete with singlet and bulging muscles, I\\'m sure he could do better but seems satisfied to grimace and snarl through his part.<br /><br />The lovely Erika is very decorative (even though fully clothed!) and shows some signs of \"getting\" acting at last.<br /><br />SFX are mainly poor CGI and steals from other movies.<br /><br />The shootouts are pitiful - worthy of the A-Team<br /><br />Not even worth seeing for Perlman - AVOID'\n",
      "Label : 0 (neg)\n",
      "\n",
      "Review: b\"I pity people calling kamal hassan 'ulaganaayakan' maybe for them ulagam is tollywood ! comeon guys..this movie is a thriller without thrill..<br /><br />come out of your ulagam and just watch some high class thrillers like The Usual Suspects or even The Silence of the Lambs.<br /><br />technically good but style over substance kamal doesn't look like a police officer, there is no thrill whatsoever dragging and boring till end you might be saving 3 valuable hrs of your life if u skip watching this movie.<br /><br />kamal at his best is the best in tollywood\"\n",
      "Label : 0 (neg)\n",
      "\n",
      "Review: b'Wow. The only people reviewing this positively are the Carpenter apologists. I know a lot of those. The guys that\\'ll watch John Carpenter squat on celluloid and pinch out a movie and proclaim it a masterwork of horror. This \"movie\" is utter crap. It looks and sounds like a porno (good lord, the soundtrack is awful...), and has sub-par porn acting, which is shocking, because normally Ron Perlman is really a very good actor. I honestly have no idea what Carpenter was thinking when making this. Most likely \"Beans, beans, beans..\" until somebody fed him and rolled him up into a blanket for the day... They say nothing about the abortion debate whatsoever, when they could have had a very interesting central theme (how do religious zealot anti-abortionists feel when it\\'s the devil\\'s baby?) but instead they chose to have Ron Perlman and his terribly acted kids kill a bunch of people and have the horribly cast doctors try to calm the hysterically bad pregnant girl. Not a single person from this episode or what have you should come away unscathed. It\\'s just awful. Like, Plan 9 From Outerspace awful. Like, good god please would somebody turn it off before I soil myself awful. Try watching this and The Thing in the same day and your mind will implode.'\n",
      "Label : 0 (neg)\n",
      "\n"
     ]
    },
    {
     "name": "stderr",
     "output_type": "stream",
     "text": [
      "2021-12-19 17:46:42.813082: W tensorflow/core/kernels/data/cache_dataset_ops.cc:768] The calling iterator did not fully read the dataset being cached. In order to avoid unexpected truncation of the dataset, the partially cached contents of the dataset  will be discarded. This can happen if you have an input pipeline similar to `dataset.cache().take(k).repeat()`. You should use `dataset.take(k).cache().repeat()` instead.\n"
     ]
    }
   ],
   "source": [
    "for text_batch, label_batch in train_ds.take(1):\n",
    "    # we'll print 3 reviews from the batch\n",
    "    for i in range(3):\n",
    "        print(f'Review: {text_batch.numpy()[i]}')\n",
    "        label = label_batch.numpy()[i]\n",
    "        print(f'Label : {label} ({class_names[label]})')\n",
    "        print()"
   ]
  },
  {
   "cell_type": "markdown",
   "id": "3ac881d1",
   "metadata": {},
   "source": [
    "## Loading model from TensorFlow HUB"
   ]
  },
  {
   "cell_type": "code",
   "execution_count": 7,
   "id": "fd7f0f72",
   "metadata": {},
   "outputs": [],
   "source": [
    "def get_tfhub_model(use_sequences=False):\n",
    "    model_size = [\n",
    "        (2, 128, 2),\n",
    "        (6, 256, 4),\n",
    "        (10, 256, 4),\n",
    "        (2, 768, 12),\n",
    "        (12, 768, 12),\n",
    "    ][3]\n",
    "\n",
    "    # Number of layers (i.e., residual blocks)\n",
    "    L = model_size[0]\n",
    "\n",
    "    # Size of hidden layers\n",
    "    H = model_size[1]\n",
    "\n",
    "    # Number of attention heads\n",
    "    A = model_size[2]\n",
    "\n",
    "    tfhub_handle_encoder = f\"https://tfhub.dev/tensorflow/small_bert/bert_en_uncased_L-{L}_H-{H}_A-{A}/2\"\n",
    "    tfhub_handle_preprocess = \"https://tfhub.dev/tensorflow/bert_en_uncased_preprocess/3\"\n",
    "    \n",
    "    input_layer = tf.keras.layers.Input(shape=(), dtype=tf.string, name='text')\n",
    "    preprocessing_layer = hub.KerasLayer(tfhub_handle_preprocess, name='preprocessing')\n",
    "    \n",
    "    encoder_inputs = preprocessing_layer(input_layer)\n",
    "    encoder = hub.KerasLayer(tfhub_handle_encoder, trainable=True, name='BERT_encoder')\n",
    "    outputs = encoder(encoder_inputs)\n",
    "    \n",
    "    if use_sequences:\n",
    "        return tf.keras.Model(input_layer, outputs['sequence_output'])\n",
    "    \n",
    "    return tf.keras.Model(input_layer, outputs['pooled_output'])"
   ]
  },
  {
   "cell_type": "markdown",
   "id": "3a418437",
   "metadata": {},
   "source": [
    "## Preparing the feature extractor"
   ]
  },
  {
   "cell_type": "code",
   "execution_count": 8,
   "id": "ab7c692f",
   "metadata": {},
   "outputs": [
    {
     "name": "stderr",
     "output_type": "stream",
     "text": [
      "Some layers from the model checkpoint at bert-base-uncased were not used when initializing TFBertModel: ['mlm___cls', 'nsp___cls']\n",
      "- This IS expected if you are initializing TFBertModel from the checkpoint of a model trained on another task or with another architecture (e.g. initializing a BertForSequenceClassification model from a BertForPreTraining model).\n",
      "- This IS NOT expected if you are initializing TFBertModel from the checkpoint of a model that you expect to be exactly identical (initializing a BertForSequenceClassification model from a BertForSequenceClassification model).\n",
      "All the layers of TFBertModel were initialized from the model checkpoint at bert-base-uncased.\n",
      "If your task is similar to the task the model of the checkpoint was trained on, you can already use TFBertModel for predictions without further training.\n"
     ]
    }
   ],
   "source": [
    "checkpoint = \"bert-base-uncased\"\n",
    "tokenizer = AutoTokenizer.from_pretrained(checkpoint)\n",
    "model_transformers = TFAutoModel.from_pretrained(checkpoint)"
   ]
  },
  {
   "cell_type": "code",
   "execution_count": 9,
   "id": "935587b0",
   "metadata": {},
   "outputs": [],
   "source": [
    "def get_features_transformers(model, tokenizer, X_batch, use_sequence=False):\n",
    "    inputs = tokenizer([str(x) for x in X_batch], padding=True, truncation=True, return_tensors=\"tf\")\n",
    "    \n",
    "    model_output = model(inputs)\n",
    "    \n",
    "    if use_sequence:\n",
    "        new_output = tf.math.reduce_mean(model_output.last_hidden_state, 1)\n",
    "        \n",
    "        return new_output\n",
    "    \n",
    "    return [x.numpy() for x in model_output.pooler_output]"
   ]
  },
  {
   "cell_type": "markdown",
   "id": "236fa580",
   "metadata": {},
   "source": [
    "The feature extractor simply returns the output from the model."
   ]
  },
  {
   "cell_type": "code",
   "execution_count": 10,
   "id": "60e63d74",
   "metadata": {},
   "outputs": [],
   "source": [
    "def get_features_tf_hub(model, X, use_sequence=True):\n",
    "    model_output = model(X)\n",
    "\n",
    "    # wheter of not use sequence_output instead of pooled_output\n",
    "    if use_sequence:\n",
    "        new_output = tf.math.reduce_mean(model_output, 1)\n",
    "\n",
    "        return new_output\n",
    "    \n",
    "    return model_output"
   ]
  },
  {
   "cell_type": "code",
   "execution_count": 11,
   "id": "ad7e84ad",
   "metadata": {},
   "outputs": [],
   "source": [
    "def get_preprocessed_text(text):\n",
    "    \"\"\"\n",
    "    Function used to tokenize, clean and stem a sentence.\n",
    "    Used for TfIdfTokenizer.\n",
    "    \"\"\"\n",
    "    text = text.lower()\n",
    "    \n",
    "    soup = BeautifulSoup(text, 'html.parser')\n",
    "    text = soup.get_text()\n",
    "    \n",
    "    text = re.sub('[!\"#$%&\\'()*+,-./:;<=>?@[\\\\]^_`{|}~]+', ' ', text)\n",
    "    \n",
    "    tokens = word_tokenize(text)\n",
    "    \n",
    "    stemmer = PorterStemmer()\n",
    "    stemmed = [stemmer.stem(token) for token in tokens if token not in ENGLISH_STOP_WORDS]\n",
    "    \n",
    "    return ' '.join(stemmed)"
   ]
  },
  {
   "cell_type": "markdown",
   "id": "ef128ab7",
   "metadata": {},
   "source": [
    "## Preparing the classifiers"
   ]
  },
  {
   "cell_type": "markdown",
   "id": "a7c59128",
   "metadata": {},
   "source": [
    "For the classifier, a simple SVM Classifier will be used."
   ]
  },
  {
   "cell_type": "code",
   "execution_count": 12,
   "id": "3a57b9bc",
   "metadata": {},
   "outputs": [],
   "source": [
    "classifier_tfhub = svm.SVC()\n",
    "classifier_tfidf = svm.SVC()\n",
    "classifier_transformers = svm.SVC()"
   ]
  },
  {
   "cell_type": "markdown",
   "id": "039518e1",
   "metadata": {},
   "source": [
    "## 🤗 Transformers Pipeline"
   ]
  },
  {
   "cell_type": "markdown",
   "id": "89920c44",
   "metadata": {},
   "source": [
    "Feature acquisition."
   ]
  },
  {
   "cell_type": "code",
   "execution_count": 26,
   "id": "a0b3a594",
   "metadata": {},
   "outputs": [
    {
     "data": {
      "application/vnd.jupyter.widget-view+json": {
       "model_id": "56cad7090b7a48a6ae2fe8175c3f4c8e",
       "version_major": 2,
       "version_minor": 0
      },
      "text/plain": [
       "  0%|          | 0/1667 [00:00<?, ?it/s]"
      ]
     },
     "metadata": {},
     "output_type": "display_data"
    },
    {
     "name": "stdout",
     "output_type": "stream",
     "text": [
      "20000\n"
     ]
    }
   ],
   "source": [
    "X_transformers = []\n",
    "y_transformers = []\n",
    "t = 0\n",
    "for text_batch, label_batch in tqdm(train_ds):\n",
    "    features_transformers = get_features_transformers(model_transformers, tokenizer, text_batch)\n",
    "    t += len(features_transformers)\n",
    "    \n",
    "    [X_transformers.append(f) for f in features_transformers]\n",
    "    [y_transformers.append(l) for l in label_batch]\n",
    "    \n",
    "print(len(X_transformers))"
   ]
  },
  {
   "cell_type": "markdown",
   "id": "70fa55a3",
   "metadata": {},
   "source": [
    "Training."
   ]
  },
  {
   "cell_type": "code",
   "execution_count": 14,
   "id": "ab8858c1",
   "metadata": {},
   "outputs": [
    {
     "name": "stdout",
     "output_type": "stream",
     "text": [
      "<class 'numpy.ndarray'>\n"
     ]
    }
   ],
   "source": [
    "print(type(X_transformers[0]))"
   ]
  },
  {
   "cell_type": "code",
   "execution_count": 15,
   "id": "e11e05b1",
   "metadata": {
    "scrolled": true
   },
   "outputs": [
    {
     "data": {
      "text/plain": [
       "SVC()"
      ]
     },
     "execution_count": 15,
     "metadata": {},
     "output_type": "execute_result"
    }
   ],
   "source": [
    "classifier_transformers.fit(X=X_transformers, y=y_transformers)"
   ]
  },
  {
   "cell_type": "markdown",
   "id": "1fd0184a",
   "metadata": {},
   "source": [
    "Making predictions."
   ]
  },
  {
   "cell_type": "code",
   "execution_count": 19,
   "id": "6c81dbba",
   "metadata": {},
   "outputs": [
    {
     "data": {
      "application/vnd.jupyter.widget-view+json": {
       "model_id": "2a22d3a6860d46648e7b9fe62ef3b93f",
       "version_major": 2,
       "version_minor": 0
      },
      "text/plain": [
       "  0%|          | 0/2084 [00:00<?, ?it/s]"
      ]
     },
     "metadata": {},
     "output_type": "display_data"
    }
   ],
   "source": [
    "y_pred_transformers = []\n",
    "y_true_transformers = []\n",
    "for text_batch, label_batch in tqdm(test_ds):\n",
    "    features_tranformers = get_features_transformers(model_transformers, tokenizer, text_batch)\n",
    "    \n",
    "    [y_pred_transformers.append(prediction)\n",
    "         for prediction in classifier_transformers.predict(features_transformers)]\n",
    "    [y_true_transformers.append(label_list)\n",
    "         for label_list in label_batch]"
   ]
  },
  {
   "cell_type": "code",
   "execution_count": 25,
   "id": "30ca5ba0",
   "metadata": {},
   "outputs": [
    {
     "data": {
      "text/plain": [
       "16672"
      ]
     },
     "execution_count": 25,
     "metadata": {},
     "output_type": "execute_result"
    }
   ],
   "source": [
    "len(y_pred_transformers)"
   ]
  },
  {
   "cell_type": "markdown",
   "id": "21f6a6e1",
   "metadata": {},
   "source": [
    "## TF Hub Model Pipeline"
   ]
  },
  {
   "cell_type": "markdown",
   "id": "53a8cefe",
   "metadata": {},
   "source": [
    "Feature acquisition."
   ]
  },
  {
   "cell_type": "code",
   "execution_count": null,
   "id": "533cc346",
   "metadata": {},
   "outputs": [],
   "source": [
    "# The model will be used for feature acquisition in training and prediction.\n",
    "tfhub_model = get_tfhub_model(True)"
   ]
  },
  {
   "cell_type": "code",
   "execution_count": null,
   "id": "5f9f7e37",
   "metadata": {},
   "outputs": [],
   "source": [
    "X_tfhub = []\n",
    "y_tfhub = []\n",
    "for text_batch, label_batch in tqdm(train_ds):\n",
    "    features_tfhub = get_features(tfhub_model, text_batch, use_sequence=True)\n",
    "    \n",
    "    [X_tfhub.append(f) for f in features_tfhub]\n",
    "    [y_tfhub.append(l) for l in label_batch]\n",
    "    \n",
    "print(len(X_tfhub))"
   ]
  },
  {
   "cell_type": "markdown",
   "id": "c051aef5",
   "metadata": {},
   "source": [
    "Training."
   ]
  },
  {
   "cell_type": "code",
   "execution_count": null,
   "id": "d72815c8",
   "metadata": {},
   "outputs": [],
   "source": [
    "classifier_tfhub.fit(X=X_tfhub, y=y_tfhub)"
   ]
  },
  {
   "cell_type": "markdown",
   "id": "1d48ea5a",
   "metadata": {},
   "source": [
    "Making predictions."
   ]
  },
  {
   "cell_type": "code",
   "execution_count": null,
   "id": "c9d7494d",
   "metadata": {},
   "outputs": [],
   "source": [
    "y_pred_tfhub = []\n",
    "y_true_tfhub = []\n",
    "for text_batch, label_batch in tqdm(test_ds):\n",
    "    features = get_features(tfhub_model, text_batch)\n",
    "    \n",
    "    [y_pred_tfhub.append(prediction) for prediction in classifier_tfhub.predict(features)]\n",
    "    [y_true_tfhub.append(label_list) for label_list in label_batch]"
   ]
  },
  {
   "cell_type": "markdown",
   "id": "04773e74",
   "metadata": {},
   "source": [
    "## `TfIdfVectorizer` Pipeline"
   ]
  },
  {
   "cell_type": "markdown",
   "id": "fc0196c1",
   "metadata": {},
   "source": [
    "Feature acquisition."
   ]
  },
  {
   "cell_type": "code",
   "execution_count": null,
   "id": "49a5413b",
   "metadata": {},
   "outputs": [],
   "source": [
    "X_tfidf = []\n",
    "y_tfidf = []\n",
    "for text_batch, label_batch in tqdm(train_ds):\n",
    "    [X_tfidf.append(get_preprocessed_text(doc.numpy())) for doc in text_batch]\n",
    "    [y_tfidf.append(l) for l in label_batch]"
   ]
  },
  {
   "cell_type": "markdown",
   "id": "53688a5c",
   "metadata": {},
   "source": [
    "The `tfidf_vectorizer` will be used in both training and prediction."
   ]
  },
  {
   "cell_type": "code",
   "execution_count": null,
   "id": "c623f5da",
   "metadata": {},
   "outputs": [],
   "source": [
    "tfidf_vectorizer = TfidfVectorizer()\n",
    "tfidf_vectorizer.fit(X_tfidf)\n",
    "\n",
    "features_tfidf = tfidf_vectorizer.transform(X_tfidf)"
   ]
  },
  {
   "cell_type": "markdown",
   "id": "4fa5e993",
   "metadata": {},
   "source": [
    "Training."
   ]
  },
  {
   "cell_type": "code",
   "execution_count": null,
   "id": "9570e1b1",
   "metadata": {},
   "outputs": [],
   "source": [
    "X_tfidf = []\n",
    "y_tfidf = []\n",
    "for text_batch, label_batch in tqdm(train_ds):\n",
    "    [X_tfidf.append(get_preprocessed_text(doc.numpy())) for doc in text_batch]\n",
    "    [y_tfidf.append(l) for l in label_batch]"
   ]
  },
  {
   "cell_type": "markdown",
   "id": "602e0569",
   "metadata": {},
   "source": [
    "Making predictions."
   ]
  },
  {
   "cell_type": "code",
   "execution_count": null,
   "id": "707ce81e",
   "metadata": {},
   "outputs": [],
   "source": [
    "y_pred_tfidf = []\n",
    "y_true_tfidf = []\n",
    "for text_batch, label_batch in tqdm(test_ds):\n",
    "    for doc in text_batch:\n",
    "        features = tfidf_vectorizer.transform([get_preprocessed_text(doc.numpy())])\n",
    "        y_pred_tfidf.append(classifier_tfidf.predict(features))\n",
    "        \n",
    "    [y_true_tfidf.append(label_list) for label_list in label_batch]"
   ]
  },
  {
   "cell_type": "markdown",
   "id": "25dd2b66",
   "metadata": {},
   "source": [
    "## Measuring Accuracy of All Approaches"
   ]
  },
  {
   "cell_type": "code",
   "execution_count": null,
   "id": "f60d4704",
   "metadata": {},
   "outputs": [],
   "source": [
    "print(f\"🤗 Transformers: {accuracy_score(y_true_tfhub, y_pred_tfhub)}\")\n",
    "print(f\"TF Hub: {accuracy_score(y_true_tfhub, y_pred_tfhub)}\")\n",
    "print(f\"TF-IDF: {accuracy_score(y_true_tfhub, y_pred_tfhub)}\")"
   ]
  },
  {
   "cell_type": "code",
   "execution_count": 21,
   "id": "66ce0f95",
   "metadata": {},
   "outputs": [
    {
     "ename": "ValueError",
     "evalue": "Found input variables with inconsistent numbers of samples: [25000, 16672]",
     "output_type": "error",
     "traceback": [
      "\u001b[0;31m---------------------------------------------------------------------------\u001b[0m",
      "\u001b[0;31mValueError\u001b[0m                                Traceback (most recent call last)",
      "\u001b[0;32m/tmp/ipykernel_19207/438805218.py\u001b[0m in \u001b[0;36m<module>\u001b[0;34m\u001b[0m\n\u001b[0;32m----> 1\u001b[0;31m \u001b[0mprint\u001b[0m\u001b[0;34m(\u001b[0m\u001b[0;34mf\"🤗 Transformers: {accuracy_score(y_true_transformers, y_pred_transformers)}\"\u001b[0m\u001b[0;34m)\u001b[0m\u001b[0;34m\u001b[0m\u001b[0;34m\u001b[0m\u001b[0m\n\u001b[0m",
      "\u001b[0;32m~/anaconda3/envs/nlp/lib/python3.9/site-packages/sklearn/utils/validation.py\u001b[0m in \u001b[0;36minner_f\u001b[0;34m(*args, **kwargs)\u001b[0m\n\u001b[1;32m     61\u001b[0m             \u001b[0mextra_args\u001b[0m \u001b[0;34m=\u001b[0m \u001b[0mlen\u001b[0m\u001b[0;34m(\u001b[0m\u001b[0margs\u001b[0m\u001b[0;34m)\u001b[0m \u001b[0;34m-\u001b[0m \u001b[0mlen\u001b[0m\u001b[0;34m(\u001b[0m\u001b[0mall_args\u001b[0m\u001b[0;34m)\u001b[0m\u001b[0;34m\u001b[0m\u001b[0;34m\u001b[0m\u001b[0m\n\u001b[1;32m     62\u001b[0m             \u001b[0;32mif\u001b[0m \u001b[0mextra_args\u001b[0m \u001b[0;34m<=\u001b[0m \u001b[0;36m0\u001b[0m\u001b[0;34m:\u001b[0m\u001b[0;34m\u001b[0m\u001b[0;34m\u001b[0m\u001b[0m\n\u001b[0;32m---> 63\u001b[0;31m                 \u001b[0;32mreturn\u001b[0m \u001b[0mf\u001b[0m\u001b[0;34m(\u001b[0m\u001b[0;34m*\u001b[0m\u001b[0margs\u001b[0m\u001b[0;34m,\u001b[0m \u001b[0;34m**\u001b[0m\u001b[0mkwargs\u001b[0m\u001b[0;34m)\u001b[0m\u001b[0;34m\u001b[0m\u001b[0;34m\u001b[0m\u001b[0m\n\u001b[0m\u001b[1;32m     64\u001b[0m \u001b[0;34m\u001b[0m\u001b[0m\n\u001b[1;32m     65\u001b[0m             \u001b[0;31m# extra_args > 0\u001b[0m\u001b[0;34m\u001b[0m\u001b[0;34m\u001b[0m\u001b[0m\n",
      "\u001b[0;32m~/anaconda3/envs/nlp/lib/python3.9/site-packages/sklearn/metrics/_classification.py\u001b[0m in \u001b[0;36maccuracy_score\u001b[0;34m(y_true, y_pred, normalize, sample_weight)\u001b[0m\n\u001b[1;32m    200\u001b[0m \u001b[0;34m\u001b[0m\u001b[0m\n\u001b[1;32m    201\u001b[0m     \u001b[0;31m# Compute accuracy for each possible representation\u001b[0m\u001b[0;34m\u001b[0m\u001b[0;34m\u001b[0m\u001b[0m\n\u001b[0;32m--> 202\u001b[0;31m     \u001b[0my_type\u001b[0m\u001b[0;34m,\u001b[0m \u001b[0my_true\u001b[0m\u001b[0;34m,\u001b[0m \u001b[0my_pred\u001b[0m \u001b[0;34m=\u001b[0m \u001b[0m_check_targets\u001b[0m\u001b[0;34m(\u001b[0m\u001b[0my_true\u001b[0m\u001b[0;34m,\u001b[0m \u001b[0my_pred\u001b[0m\u001b[0;34m)\u001b[0m\u001b[0;34m\u001b[0m\u001b[0;34m\u001b[0m\u001b[0m\n\u001b[0m\u001b[1;32m    203\u001b[0m     \u001b[0mcheck_consistent_length\u001b[0m\u001b[0;34m(\u001b[0m\u001b[0my_true\u001b[0m\u001b[0;34m,\u001b[0m \u001b[0my_pred\u001b[0m\u001b[0;34m,\u001b[0m \u001b[0msample_weight\u001b[0m\u001b[0;34m)\u001b[0m\u001b[0;34m\u001b[0m\u001b[0;34m\u001b[0m\u001b[0m\n\u001b[1;32m    204\u001b[0m     \u001b[0;32mif\u001b[0m \u001b[0my_type\u001b[0m\u001b[0;34m.\u001b[0m\u001b[0mstartswith\u001b[0m\u001b[0;34m(\u001b[0m\u001b[0;34m'multilabel'\u001b[0m\u001b[0;34m)\u001b[0m\u001b[0;34m:\u001b[0m\u001b[0;34m\u001b[0m\u001b[0;34m\u001b[0m\u001b[0m\n",
      "\u001b[0;32m~/anaconda3/envs/nlp/lib/python3.9/site-packages/sklearn/metrics/_classification.py\u001b[0m in \u001b[0;36m_check_targets\u001b[0;34m(y_true, y_pred)\u001b[0m\n\u001b[1;32m     81\u001b[0m     \u001b[0my_pred\u001b[0m \u001b[0;34m:\u001b[0m \u001b[0marray\u001b[0m \u001b[0;32mor\u001b[0m \u001b[0mindicator\u001b[0m \u001b[0mmatrix\u001b[0m\u001b[0;34m\u001b[0m\u001b[0;34m\u001b[0m\u001b[0m\n\u001b[1;32m     82\u001b[0m     \"\"\"\n\u001b[0;32m---> 83\u001b[0;31m     \u001b[0mcheck_consistent_length\u001b[0m\u001b[0;34m(\u001b[0m\u001b[0my_true\u001b[0m\u001b[0;34m,\u001b[0m \u001b[0my_pred\u001b[0m\u001b[0;34m)\u001b[0m\u001b[0;34m\u001b[0m\u001b[0;34m\u001b[0m\u001b[0m\n\u001b[0m\u001b[1;32m     84\u001b[0m     \u001b[0mtype_true\u001b[0m \u001b[0;34m=\u001b[0m \u001b[0mtype_of_target\u001b[0m\u001b[0;34m(\u001b[0m\u001b[0my_true\u001b[0m\u001b[0;34m)\u001b[0m\u001b[0;34m\u001b[0m\u001b[0;34m\u001b[0m\u001b[0m\n\u001b[1;32m     85\u001b[0m     \u001b[0mtype_pred\u001b[0m \u001b[0;34m=\u001b[0m \u001b[0mtype_of_target\u001b[0m\u001b[0;34m(\u001b[0m\u001b[0my_pred\u001b[0m\u001b[0;34m)\u001b[0m\u001b[0;34m\u001b[0m\u001b[0;34m\u001b[0m\u001b[0m\n",
      "\u001b[0;32m~/anaconda3/envs/nlp/lib/python3.9/site-packages/sklearn/utils/validation.py\u001b[0m in \u001b[0;36mcheck_consistent_length\u001b[0;34m(*arrays)\u001b[0m\n\u001b[1;32m    317\u001b[0m     \u001b[0muniques\u001b[0m \u001b[0;34m=\u001b[0m \u001b[0mnp\u001b[0m\u001b[0;34m.\u001b[0m\u001b[0munique\u001b[0m\u001b[0;34m(\u001b[0m\u001b[0mlengths\u001b[0m\u001b[0;34m)\u001b[0m\u001b[0;34m\u001b[0m\u001b[0;34m\u001b[0m\u001b[0m\n\u001b[1;32m    318\u001b[0m     \u001b[0;32mif\u001b[0m \u001b[0mlen\u001b[0m\u001b[0;34m(\u001b[0m\u001b[0muniques\u001b[0m\u001b[0;34m)\u001b[0m \u001b[0;34m>\u001b[0m \u001b[0;36m1\u001b[0m\u001b[0;34m:\u001b[0m\u001b[0;34m\u001b[0m\u001b[0;34m\u001b[0m\u001b[0m\n\u001b[0;32m--> 319\u001b[0;31m         raise ValueError(\"Found input variables with inconsistent numbers of\"\n\u001b[0m\u001b[1;32m    320\u001b[0m                          \" samples: %r\" % [int(l) for l in lengths])\n\u001b[1;32m    321\u001b[0m \u001b[0;34m\u001b[0m\u001b[0m\n",
      "\u001b[0;31mValueError\u001b[0m: Found input variables with inconsistent numbers of samples: [25000, 16672]"
     ]
    }
   ],
   "source": [
    "print(f\"🤗 Transformers: {accuracy_score(y_true_transformers, y_pred_transformers)}\")"
   ]
  }
 ],
 "metadata": {
  "kernelspec": {
   "display_name": "Python 3 (ipykernel)",
   "language": "python",
   "name": "python3"
  },
  "language_info": {
   "codemirror_mode": {
    "name": "ipython",
    "version": 3
   },
   "file_extension": ".py",
   "mimetype": "text/x-python",
   "name": "python",
   "nbconvert_exporter": "python",
   "pygments_lexer": "ipython3",
   "version": "3.9.7"
  }
 },
 "nbformat": 4,
 "nbformat_minor": 5
}
