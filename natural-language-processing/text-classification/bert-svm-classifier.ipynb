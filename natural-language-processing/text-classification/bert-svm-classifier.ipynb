{
 "cells": [
  {
   "cell_type": "markdown",
   "id": "839dd11b",
   "metadata": {},
   "source": [
    "# Classifying text with BERT and SVM"
   ]
  },
  {
   "cell_type": "markdown",
   "id": "c51d3ba1",
   "metadata": {},
   "source": [
    "In this approach, we'll use BERT embeddings as input features to a SVM classifier."
   ]
  },
  {
   "cell_type": "code",
   "execution_count": 2,
   "id": "3ca4037a",
   "metadata": {},
   "outputs": [],
   "source": [
    "import os\n",
    "import shutil\n",
    "import numpy as np\n",
    "\n",
    "import tensorflow as tf\n",
    "import tensorflow_hub as hub\n",
    "import tensorflow_text as text\n",
    "\n",
    "import matplotlib.pyplot as plt\n",
    "\n",
    "from sklearn import svm\n",
    "from sklearn.metrics import accuracy_score\n",
    "from sklearn.feature_extraction.text import TfidfVectorizer\n",
    "\n",
    "from tqdm.notebook import tqdm\n",
    "\n",
    "tf.get_logger().setLevel('ERROR')"
   ]
  },
  {
   "cell_type": "markdown",
   "id": "cfbeed4e",
   "metadata": {},
   "source": [
    "## Dataset"
   ]
  },
  {
   "cell_type": "markdown",
   "id": "459b82be",
   "metadata": {},
   "source": [
    "The dataset used is the IMDb reviews dataset (available at [Large Movie Review Dataset](https://ai.stanford.edu/~amaas/data/sentiment/))."
   ]
  },
  {
   "cell_type": "code",
   "execution_count": 3,
   "id": "b5dbcf00",
   "metadata": {},
   "outputs": [],
   "source": [
    "url = 'https://ai.stanford.edu/~amaas/data/sentiment/aclImdb_v1.tar.gz'\n",
    "\n",
    "dataset = tf.keras.utils.get_file(\n",
    "        'aclImdb_v1.tar.gz', url,\n",
    "        untar=True, cache_dir='../../data/aclImdb',\n",
    "        cache_subdir='')\n",
    "\n",
    "dataset_dir = os.path.join(os.path.dirname(dataset), 'aclImdb')\n",
    "\n",
    "train_dir = os.path.join(dataset_dir, 'train')\n",
    "\n",
    "# remove unused folders to make it easier to load the data\n",
    "remove_dir = os.path.join(train_dir, 'unsup')\n",
    "shutil.rmtree(remove_dir)"
   ]
  },
  {
   "cell_type": "markdown",
   "id": "d7e3b368",
   "metadata": {},
   "source": [
    "The raw dataset has train and test sets, but lacks a validation set. 20% of train set will be used to validation."
   ]
  },
  {
   "cell_type": "code",
   "execution_count": 4,
   "id": "b1441f7c",
   "metadata": {},
   "outputs": [
    {
     "name": "stdout",
     "output_type": "stream",
     "text": [
      "Found 25000 files belonging to 2 classes.\n",
      "Using 20000 files for training.\n"
     ]
    },
    {
     "name": "stderr",
     "output_type": "stream",
     "text": [
      "2021-12-10 14:22:48.134503: I tensorflow/stream_executor/cuda/cuda_gpu_executor.cc:939] successful NUMA node read from SysFS had negative value (-1), but there must be at least one NUMA node, so returning NUMA node zero\n",
      "2021-12-10 14:22:48.162144: I tensorflow/stream_executor/cuda/cuda_gpu_executor.cc:939] successful NUMA node read from SysFS had negative value (-1), but there must be at least one NUMA node, so returning NUMA node zero\n",
      "2021-12-10 14:22:48.162295: I tensorflow/stream_executor/cuda/cuda_gpu_executor.cc:939] successful NUMA node read from SysFS had negative value (-1), but there must be at least one NUMA node, so returning NUMA node zero\n",
      "2021-12-10 14:22:48.187297: I tensorflow/core/platform/cpu_feature_guard.cc:151] This TensorFlow binary is optimized with oneAPI Deep Neural Network Library (oneDNN) to use the following CPU instructions in performance-critical operations:  AVX2 FMA\n",
      "To enable them in other operations, rebuild TensorFlow with the appropriate compiler flags.\n",
      "2021-12-10 14:22:48.187709: I tensorflow/stream_executor/cuda/cuda_gpu_executor.cc:939] successful NUMA node read from SysFS had negative value (-1), but there must be at least one NUMA node, so returning NUMA node zero\n",
      "2021-12-10 14:22:48.187875: I tensorflow/stream_executor/cuda/cuda_gpu_executor.cc:939] successful NUMA node read from SysFS had negative value (-1), but there must be at least one NUMA node, so returning NUMA node zero\n",
      "2021-12-10 14:22:48.187989: I tensorflow/stream_executor/cuda/cuda_gpu_executor.cc:939] successful NUMA node read from SysFS had negative value (-1), but there must be at least one NUMA node, so returning NUMA node zero\n",
      "2021-12-10 14:22:48.582580: I tensorflow/stream_executor/cuda/cuda_gpu_executor.cc:939] successful NUMA node read from SysFS had negative value (-1), but there must be at least one NUMA node, so returning NUMA node zero\n",
      "2021-12-10 14:22:48.582899: I tensorflow/stream_executor/cuda/cuda_gpu_executor.cc:939] successful NUMA node read from SysFS had negative value (-1), but there must be at least one NUMA node, so returning NUMA node zero\n",
      "2021-12-10 14:22:48.583040: I tensorflow/stream_executor/cuda/cuda_gpu_executor.cc:939] successful NUMA node read from SysFS had negative value (-1), but there must be at least one NUMA node, so returning NUMA node zero\n",
      "2021-12-10 14:22:48.583167: I tensorflow/core/common_runtime/gpu/gpu_device.cc:1525] Created device /job:localhost/replica:0/task:0/device:GPU:0 with 2002 MB memory:  -> device: 0, name: NVIDIA GeForce GTX 1650 Ti, pci bus id: 0000:01:00.0, compute capability: 7.5\n"
     ]
    }
   ],
   "source": [
    "AUTOTUNE = tf.data.AUTOTUNE\n",
    "batch_size = 32\n",
    "seed = 42\n",
    "\n",
    "raw_train_ds = tf.keras.utils.text_dataset_from_directory(\n",
    "    os.path.join(dataset_dir, 'train'),\n",
    "    batch_size=batch_size,\n",
    "    validation_split=0.2,\n",
    "    subset='training',\n",
    "    seed=seed)\n",
    "\n",
    "class_names = raw_train_ds.class_names\n",
    "train_ds = raw_train_ds.cache().prefetch(buffer_size=AUTOTUNE)"
   ]
  },
  {
   "cell_type": "code",
   "execution_count": 5,
   "id": "2ed62535",
   "metadata": {},
   "outputs": [
    {
     "name": "stdout",
     "output_type": "stream",
     "text": [
      "Found 25000 files belonging to 2 classes.\n",
      "Using 5000 files for validation.\n"
     ]
    }
   ],
   "source": [
    "val_ds = tf.keras.utils.text_dataset_from_directory(\n",
    "    os.path.join(dataset_dir, 'train'),\n",
    "    batch_size=batch_size,\n",
    "    validation_split=0.2,\n",
    "    subset='validation',\n",
    "    seed=seed)\n",
    "\n",
    "val_ds = val_ds.cache().prefetch(buffer_size=AUTOTUNE)"
   ]
  },
  {
   "cell_type": "code",
   "execution_count": 6,
   "id": "be6ff046",
   "metadata": {},
   "outputs": [
    {
     "name": "stdout",
     "output_type": "stream",
     "text": [
      "Found 25000 files belonging to 2 classes.\n"
     ]
    }
   ],
   "source": [
    "test_ds = tf.keras.utils.text_dataset_from_directory(\n",
    "    os.path.join(dataset_dir, 'test'),\n",
    "    batch_size=batch_size)\n",
    "\n",
    "test_ds = test_ds.cache().prefetch(buffer_size=AUTOTUNE)"
   ]
  },
  {
   "cell_type": "markdown",
   "id": "f3f6173e",
   "metadata": {},
   "source": [
    "Analyze some of the reviews to ensure everything is working so far:"
   ]
  },
  {
   "cell_type": "code",
   "execution_count": 7,
   "id": "2c617aab",
   "metadata": {},
   "outputs": [
    {
     "name": "stdout",
     "output_type": "stream",
     "text": [
      "Review: b'\"Pandemonium\" is a horror movie spoof that comes off more stupid than funny. Believe me when I tell you, I love comedies. Especially comedy spoofs. \"Airplane\", \"The Naked Gun\" trilogy, \"Blazing Saddles\", \"High Anxiety\", and \"Spaceballs\" are some of my favorite comedies that spoof a particular genre. \"Pandemonium\" is not up there with those films. Most of the scenes in this movie had me sitting there in stunned silence because the movie wasn\\'t all that funny. There are a few laughs in the film, but when you watch a comedy, you expect to laugh a lot more than a few times and that\\'s all this film has going for it. Geez, \"Scream\" had more laughs than this film and that was more of a horror film. How bizarre is that?<br /><br />*1/2 (out of four)'\n",
      "Label : 0 (neg)\n",
      "\n",
      "Review: b\"David Mamet is a very interesting and a very un-equal director. His first movie 'House of Games' was the one I liked best, and it set a series of films with characters whose perspective of life changes as they get into complicated situations, and so does the perspective of the viewer.<br /><br />So is 'Homicide' which from the title tries to set the mind of the viewer to the usual crime drama. The principal characters are two cops, one Jewish and one Irish who deal with a racially charged area. The murder of an old Jewish shop owner who proves to be an ancient veteran of the Israeli Independence war triggers the Jewish identity in the mind and heart of the Jewish detective.<br /><br />This is were the flaws of the film are the more obvious. The process of awakening is theatrical and hard to believe, the group of Jewish militants is operatic, and the way the detective eventually walks to the final violent confrontation is pathetic. The end of the film itself is Mamet-like smart, but disappoints from a human emotional perspective.<br /><br />Joe Mantegna and William Macy give strong performances, but the flaws of the story are too evident to be easily compensated.\"\n",
      "Label : 0 (neg)\n",
      "\n",
      "Review: b'Great documentary about the lives of NY firefighters during the worst terrorist attack of all time.. That reason alone is why this should be a must see collectors item.. What shocked me was not only the attacks, but the\"High Fat Diet\" and physical appearance of some of these firefighters. I think a lot of Doctors would agree with me that,in the physical shape they were in, some of these firefighters would NOT of made it to the 79th floor carrying over 60 lbs of gear. Having said that i now have a greater respect for firefighters and i realize becoming a firefighter is a life altering job. The French have a history of making great documentary\\'s and that is what this is, a Great Documentary.....'\n",
      "Label : 1 (pos)\n",
      "\n"
     ]
    },
    {
     "name": "stderr",
     "output_type": "stream",
     "text": [
      "2021-12-10 14:22:55.497810: W tensorflow/core/kernels/data/cache_dataset_ops.cc:768] The calling iterator did not fully read the dataset being cached. In order to avoid unexpected truncation of the dataset, the partially cached contents of the dataset  will be discarded. This can happen if you have an input pipeline similar to `dataset.cache().take(k).repeat()`. You should use `dataset.take(k).cache().repeat()` instead.\n"
     ]
    }
   ],
   "source": [
    "for text_batch, label_batch in train_ds.take(1):\n",
    "    # we'll print 3 reviews from the batch\n",
    "    for i in range(3):\n",
    "        print(f'Review: {text_batch.numpy()[i]}')\n",
    "        label = label_batch.numpy()[i]\n",
    "        print(f'Label : {label} ({class_names[label]})')\n",
    "        print()"
   ]
  },
  {
   "cell_type": "markdown",
   "id": "3ac881d1",
   "metadata": {},
   "source": [
    "## Loading model from TensorFlow HUB"
   ]
  },
  {
   "cell_type": "code",
   "execution_count": 8,
   "id": "fd7f0f72",
   "metadata": {},
   "outputs": [],
   "source": [
    "def get_tfhub_model():\n",
    "    model_size = [\n",
    "        (2, 128, 2),\n",
    "        (6, 256, 4),\n",
    "        (10, 256, 4),\n",
    "        (2, 768, 12),\n",
    "        (12, 768, 12),\n",
    "    ][0]\n",
    "\n",
    "    # Number of layers (i.e., residual blocks)\n",
    "    L = model_size[0]\n",
    "\n",
    "    # Size of hidden layers\n",
    "    H = model_size[1]\n",
    "\n",
    "    # Number of attention heads\n",
    "    A = model_size[2]\n",
    "\n",
    "    tfhub_handle_encoder = f\"https://tfhub.dev/tensorflow/small_bert/bert_en_uncased_L-{L}_H-{H}_A-{A}/2\"\n",
    "    tfhub_handle_preprocess = \"https://tfhub.dev/tensorflow/bert_en_uncased_preprocess/3\"\n",
    "    \n",
    "    input_layer = tf.keras.layers.Input(shape=(), dtype=tf.string, name='text')\n",
    "    preprocessing_layer = hub.KerasLayer(tfhub_handle_preprocess, name='preprocessing')\n",
    "    \n",
    "    encoder_inputs = preprocessing_layer(input_layer)\n",
    "    encoder = hub.KerasLayer(tfhub_handle_encoder, trainable=True, name='BERT_encoder')\n",
    "    outputs = encoder(encoder_inputs)\n",
    "    \n",
    "    return tf.keras.Model(input_layer, outputs['pooled_output'])"
   ]
  },
  {
   "cell_type": "markdown",
   "id": "3a418437",
   "metadata": {},
   "source": [
    "## Preparing the feature extractor"
   ]
  },
  {
   "cell_type": "markdown",
   "id": "236fa580",
   "metadata": {},
   "source": [
    "The feature extractor simply returns the output from the model."
   ]
  },
  {
   "cell_type": "code",
   "execution_count": 9,
   "id": "60e63d74",
   "metadata": {},
   "outputs": [],
   "source": [
    "def get_features(model, X):\n",
    "    model_output = model(X)\n",
    "\n",
    "    return model_output"
   ]
  },
  {
   "cell_type": "code",
   "execution_count": 10,
   "id": "ad7e84ad",
   "metadata": {},
   "outputs": [
    {
     "data": {
      "application/vnd.jupyter.widget-view+json": {
       "model_id": "363c8a9d62b542a6b5301b057a9e17e8",
       "version_major": 2,
       "version_minor": 0
      },
      "text/plain": [
       "  0%|          | 0/1 [00:00<?, ?it/s]"
      ]
     },
     "metadata": {},
     "output_type": "display_data"
    },
    {
     "name": "stdout",
     "output_type": "stream",
     "text": [
      "  (0, 251)\t0.2242209547563127\n",
      "  (0, 92)\t0.14477297004421424\n",
      "  (0, 192)\t0.10598599263132838\n",
      "  (0, 18)\t0.2242209547563127\n",
      "  (0, 40)\t0.2242209547563127\n",
      "  (0, 299)\t0.20523733584733736\n",
      "  (0, 165)\t0.2242209547563127\n",
      "  (0, 97)\t0.2242209547563127\n",
      "  (0, 222)\t0.2242209547563127\n",
      "  (0, 305)\t0.2242209547563127\n",
      "  (0, 324)\t0.15172551964264824\n",
      "  (0, 7)\t0.1905124970555341\n",
      "  (0, 63)\t0.1594978088360175\n",
      "  (0, 39)\t0.17848142774499282\n",
      "  (0, 263)\t0.1905124970555341\n",
      "  (0, 25)\t0.2242209547563127\n",
      "  (0, 217)\t0.2242209547563127\n",
      "  (0, 28)\t0.2242209547563127\n",
      "  (0, 261)\t0.20523733584733736\n",
      "  (0, 259)\t0.2242209547563127\n",
      "  (0, 125)\t0.12256977657084164\n",
      "  (0, 37)\t0.20523733584733736\n",
      "  (0, 294)\t0.13848362390550242\n",
      "  (0, 126)\t0.17848142774499282\n",
      "  (0, 301)\t0.13848362390550242\n",
      "  :\t:\n",
      "  (31, 274)\t0.10466151523107292\n",
      "  (31, 372)\t0.10466151523107292\n",
      "  (31, 376)\t0.11275087400439358\n",
      "  (31, 363)\t0.12317987131580588\n",
      "  (31, 351)\t0.12317987131580588\n",
      "  (31, 211)\t0.0760785047524466\n",
      "  (31, 163)\t0.09246378590723518\n",
      "  (31, 112)\t0.19610405571400366\n",
      "  (31, 370)\t0.08335318170961006\n",
      "  (31, 340)\t0.09246378590723518\n",
      "  (31, 361)\t0.11275087400439358\n",
      "  (31, 0)\t0.09246378590723518\n",
      "  (31, 184)\t0.0760785047524466\n",
      "  (31, 201)\t0.10466151523107292\n",
      "  (31, 62)\t0.10466151523107292\n",
      "  (31, 176)\t0.05626530333984455\n",
      "  (31, 89)\t0.0795336717722689\n",
      "  (31, 13)\t0.10466151523107292\n",
      "  (31, 145)\t0.13467188489686224\n",
      "  (31, 345)\t0.07002249095581135\n",
      "  (31, 92)\t0.3181346870890756\n",
      "  (31, 192)\t0.05822533825080602\n",
      "  (31, 7)\t0.10466151523107292\n",
      "  (31, 63)\t0.1752460610911791\n",
      "  (31, 125)\t0.40401565469058676\n"
     ]
    },
    {
     "name": "stderr",
     "output_type": "stream",
     "text": [
      "2021-12-10 14:23:02.127873: W tensorflow/core/kernels/data/cache_dataset_ops.cc:768] The calling iterator did not fully read the dataset being cached. In order to avoid unexpected truncation of the dataset, the partially cached contents of the dataset  will be discarded. This can happen if you have an input pipeline similar to `dataset.cache().take(k).repeat()`. You should use `dataset.take(k).cache().repeat()` instead.\n"
     ]
    }
   ],
   "source": [
    "def get_tfidf(X):\n",
    "    tfidf_vectorizer = TfidfVectorizer(stop_words='english', min_df=2)\n",
    "    return tfidf_vectorizer.fit_transform(X.numpy())\n",
    "    \n",
    "for text_batch, label_batch in tqdm(train_ds.take(1)):\n",
    "    features = get_tfidf(text_batch)\n",
    "    print(features)"
   ]
  },
  {
   "cell_type": "markdown",
   "id": "ef128ab7",
   "metadata": {},
   "source": [
    "## Preparing the classifier"
   ]
  },
  {
   "cell_type": "markdown",
   "id": "a7c59128",
   "metadata": {},
   "source": [
    "For the classifier, a simple SVM Classifier will be used."
   ]
  },
  {
   "cell_type": "code",
   "execution_count": 11,
   "id": "3a57b9bc",
   "metadata": {},
   "outputs": [],
   "source": [
    "classifier_tfhub = svm.SVC()\n",
    "classifier_tfidf = svm.SVC()"
   ]
  },
  {
   "cell_type": "markdown",
   "id": "602e0569",
   "metadata": {},
   "source": [
    "## Making predictions"
   ]
  },
  {
   "cell_type": "code",
   "execution_count": 12,
   "id": "052c1d9a",
   "metadata": {},
   "outputs": [],
   "source": [
    "tfhub_model = get_tfhub_model()"
   ]
  },
  {
   "cell_type": "markdown",
   "id": "f42468c3",
   "metadata": {},
   "source": [
    "Training."
   ]
  },
  {
   "cell_type": "code",
   "execution_count": 13,
   "id": "c86c4fbd",
   "metadata": {},
   "outputs": [
    {
     "data": {
      "application/vnd.jupyter.widget-view+json": {
       "model_id": "b6a9637f629f4081baa3a0cfade4824b",
       "version_major": 2,
       "version_minor": 0
      },
      "text/plain": [
       "  0%|          | 0/625 [00:00<?, ?it/s]"
      ]
     },
     "metadata": {},
     "output_type": "display_data"
    },
    {
     "name": "stdout",
     "output_type": "stream",
     "text": [
      "20000\n"
     ]
    },
    {
     "data": {
      "text/plain": [
       "SVC()"
      ]
     },
     "execution_count": 13,
     "metadata": {},
     "output_type": "execute_result"
    }
   ],
   "source": [
    "X = []\n",
    "y = []\n",
    "for text_batch, label_batch in tqdm(train_ds):\n",
    "    features = get_features(tfhub_model, text_batch)\n",
    "    \n",
    "    [X.append(f) for f in features]\n",
    "    [y.append(l) for l in label_batch]\n",
    "    \n",
    "print(len(X))\n",
    "\n",
    "classifier_tfhub.fit(X=X, y=y)"
   ]
  },
  {
   "cell_type": "markdown",
   "id": "aacc6d9a",
   "metadata": {},
   "source": [
    "Predicting values using tfhub's BERT features."
   ]
  },
  {
   "cell_type": "code",
   "execution_count": 14,
   "id": "4c1e4066",
   "metadata": {},
   "outputs": [
    {
     "data": {
      "application/vnd.jupyter.widget-view+json": {
       "model_id": "09d04dda3f874c5abc54aa0ff3747523",
       "version_major": 2,
       "version_minor": 0
      },
      "text/plain": [
       "  0%|          | 0/1 [00:00<?, ?it/s]"
      ]
     },
     "metadata": {},
     "output_type": "display_data"
    },
    {
     "name": "stderr",
     "output_type": "stream",
     "text": [
      "2021-12-10 14:24:23.861528: W tensorflow/core/kernels/data/cache_dataset_ops.cc:768] The calling iterator did not fully read the dataset being cached. In order to avoid unexpected truncation of the dataset, the partially cached contents of the dataset  will be discarded. This can happen if you have an input pipeline similar to `dataset.cache().take(k).repeat()`. You should use `dataset.take(k).cache().repeat()` instead.\n"
     ]
    }
   ],
   "source": [
    "y_pred_tfhub = []\n",
    "y_true = []\n",
    "for text_batch, label_batch in tqdm(test_ds.take(1)):\n",
    "    features = get_features(tfhub_model, text_batch)\n",
    "    \n",
    "    [y_pred_tfhub.append(prediction) for prediction in classifier_tfhub.predict(features)]\n",
    "    [y_true.append(label_list) for label_list in label_batch]"
   ]
  },
  {
   "cell_type": "code",
   "execution_count": 14,
   "id": "31c97efc",
   "metadata": {},
   "outputs": [
    {
     "data": {
      "application/vnd.jupyter.widget-view+json": {
       "model_id": "d1be669d73bb4044acd9f0564ee1dd26",
       "version_major": 2,
       "version_minor": 0
      },
      "text/plain": [
       "  0%|          | 0/625 [00:00<?, ?it/s]"
      ]
     },
     "metadata": {},
     "output_type": "display_data"
    },
    {
     "name": "stdout",
     "output_type": "stream",
     "text": [
      "(1, 532)\n",
      "(1, 532)\n",
      "(1, 532)\n",
      "(1, 532)\n",
      "(1, 532)\n",
      "(1, 532)\n",
      "(1, 532)\n",
      "(1, 532)\n",
      "(1, 532)\n",
      "(1, 532)\n",
      "(1, 532)\n",
      "(1, 532)\n",
      "(1, 532)\n",
      "(1, 532)\n",
      "(1, 532)\n",
      "(1, 532)\n",
      "(1, 532)\n",
      "(1, 532)\n",
      "(1, 532)\n",
      "(1, 532)\n",
      "(1, 532)\n",
      "(1, 532)\n",
      "(1, 532)\n",
      "(1, 532)\n",
      "(1, 532)\n",
      "(1, 532)\n",
      "(1, 532)\n",
      "(1, 532)\n",
      "(1, 532)\n",
      "(1, 532)\n",
      "(1, 532)\n",
      "(1, 532)\n"
     ]
    },
    {
     "ename": "AttributeError",
     "evalue": "numpy not found",
     "output_type": "error",
     "traceback": [
      "\u001b[0;31m---------------------------------------------------------------------------\u001b[0m",
      "\u001b[0;31mAttributeError\u001b[0m                            Traceback (most recent call last)",
      "\u001b[0;32m/tmp/ipykernel_32131/2980751706.py\u001b[0m in \u001b[0;36m<module>\u001b[0;34m\u001b[0m\n\u001b[1;32m      9\u001b[0m         \u001b[0mexit\u001b[0m\u001b[0;34m(\u001b[0m\u001b[0;34m)\u001b[0m\u001b[0;34m\u001b[0m\u001b[0;34m\u001b[0m\u001b[0m\n\u001b[1;32m     10\u001b[0m \u001b[0;34m\u001b[0m\u001b[0m\n\u001b[0;32m---> 11\u001b[0;31m     \u001b[0;34m[\u001b[0m\u001b[0mX\u001b[0m\u001b[0;34m.\u001b[0m\u001b[0mappend\u001b[0m\u001b[0;34m(\u001b[0m\u001b[0mf\u001b[0m\u001b[0;34m.\u001b[0m\u001b[0mnumpy\u001b[0m\u001b[0;34m(\u001b[0m\u001b[0;34m)\u001b[0m\u001b[0;34m)\u001b[0m \u001b[0;32mfor\u001b[0m \u001b[0mf\u001b[0m \u001b[0;32min\u001b[0m \u001b[0mfeatures\u001b[0m\u001b[0;34m]\u001b[0m\u001b[0;34m\u001b[0m\u001b[0;34m\u001b[0m\u001b[0m\n\u001b[0m\u001b[1;32m     12\u001b[0m     \u001b[0;34m[\u001b[0m\u001b[0my\u001b[0m\u001b[0;34m.\u001b[0m\u001b[0mappend\u001b[0m\u001b[0;34m(\u001b[0m\u001b[0ml\u001b[0m\u001b[0;34m)\u001b[0m \u001b[0;32mfor\u001b[0m \u001b[0ml\u001b[0m \u001b[0;32min\u001b[0m \u001b[0mlabel_batch\u001b[0m\u001b[0;34m]\u001b[0m\u001b[0;34m\u001b[0m\u001b[0;34m\u001b[0m\u001b[0m\n\u001b[1;32m     13\u001b[0m \u001b[0;34m\u001b[0m\u001b[0m\n",
      "\u001b[0;32m/tmp/ipykernel_32131/2980751706.py\u001b[0m in \u001b[0;36m<listcomp>\u001b[0;34m(.0)\u001b[0m\n\u001b[1;32m      9\u001b[0m         \u001b[0mexit\u001b[0m\u001b[0;34m(\u001b[0m\u001b[0;34m)\u001b[0m\u001b[0;34m\u001b[0m\u001b[0;34m\u001b[0m\u001b[0m\n\u001b[1;32m     10\u001b[0m \u001b[0;34m\u001b[0m\u001b[0m\n\u001b[0;32m---> 11\u001b[0;31m     \u001b[0;34m[\u001b[0m\u001b[0mX\u001b[0m\u001b[0;34m.\u001b[0m\u001b[0mappend\u001b[0m\u001b[0;34m(\u001b[0m\u001b[0mf\u001b[0m\u001b[0;34m.\u001b[0m\u001b[0mnumpy\u001b[0m\u001b[0;34m(\u001b[0m\u001b[0;34m)\u001b[0m\u001b[0;34m)\u001b[0m \u001b[0;32mfor\u001b[0m \u001b[0mf\u001b[0m \u001b[0;32min\u001b[0m \u001b[0mfeatures\u001b[0m\u001b[0;34m]\u001b[0m\u001b[0;34m\u001b[0m\u001b[0;34m\u001b[0m\u001b[0m\n\u001b[0m\u001b[1;32m     12\u001b[0m     \u001b[0;34m[\u001b[0m\u001b[0my\u001b[0m\u001b[0;34m.\u001b[0m\u001b[0mappend\u001b[0m\u001b[0;34m(\u001b[0m\u001b[0ml\u001b[0m\u001b[0;34m)\u001b[0m \u001b[0;32mfor\u001b[0m \u001b[0ml\u001b[0m \u001b[0;32min\u001b[0m \u001b[0mlabel_batch\u001b[0m\u001b[0;34m]\u001b[0m\u001b[0;34m\u001b[0m\u001b[0;34m\u001b[0m\u001b[0m\n\u001b[1;32m     13\u001b[0m \u001b[0;34m\u001b[0m\u001b[0m\n",
      "\u001b[0;32m~/anaconda3/envs/nlp/lib/python3.9/site-packages/scipy/sparse/base.py\u001b[0m in \u001b[0;36m__getattr__\u001b[0;34m(self, attr)\u001b[0m\n\u001b[1;32m    685\u001b[0m             \u001b[0;32mreturn\u001b[0m \u001b[0mself\u001b[0m\u001b[0;34m.\u001b[0m\u001b[0mgetnnz\u001b[0m\u001b[0;34m(\u001b[0m\u001b[0;34m)\u001b[0m\u001b[0;34m\u001b[0m\u001b[0;34m\u001b[0m\u001b[0m\n\u001b[1;32m    686\u001b[0m         \u001b[0;32melse\u001b[0m\u001b[0;34m:\u001b[0m\u001b[0;34m\u001b[0m\u001b[0;34m\u001b[0m\u001b[0m\n\u001b[0;32m--> 687\u001b[0;31m             \u001b[0;32mraise\u001b[0m \u001b[0mAttributeError\u001b[0m\u001b[0;34m(\u001b[0m\u001b[0mattr\u001b[0m \u001b[0;34m+\u001b[0m \u001b[0;34m\" not found\"\u001b[0m\u001b[0;34m)\u001b[0m\u001b[0;34m\u001b[0m\u001b[0;34m\u001b[0m\u001b[0m\n\u001b[0m\u001b[1;32m    688\u001b[0m \u001b[0;34m\u001b[0m\u001b[0m\n\u001b[1;32m    689\u001b[0m     \u001b[0;32mdef\u001b[0m \u001b[0mtranspose\u001b[0m\u001b[0;34m(\u001b[0m\u001b[0mself\u001b[0m\u001b[0;34m,\u001b[0m \u001b[0maxes\u001b[0m\u001b[0;34m=\u001b[0m\u001b[0;32mNone\u001b[0m\u001b[0;34m,\u001b[0m \u001b[0mcopy\u001b[0m\u001b[0;34m=\u001b[0m\u001b[0;32mFalse\u001b[0m\u001b[0;34m)\u001b[0m\u001b[0;34m:\u001b[0m\u001b[0;34m\u001b[0m\u001b[0;34m\u001b[0m\u001b[0m\n",
      "\u001b[0;31mAttributeError\u001b[0m: numpy not found"
     ]
    }
   ],
   "source": [
    "X = []\n",
    "y = []\n",
    "for text_batch, label_batch in tqdm(train_ds):\n",
    "    features = get_tfidf(text_batch)\n",
    "    \n",
    "    for f in features:\n",
    "        print(f.shape)\n",
    "        \n",
    "        exit()\n",
    "    \n",
    "    [X.append(f.numpy()) for f in features]\n",
    "    [y.append(l) for l in label_batch]\n",
    "\n",
    "    \n",
    "classifier_tfidf.fit(X=X, y=y)"
   ]
  },
  {
   "cell_type": "markdown",
   "id": "38096950",
   "metadata": {},
   "source": [
    "Predic values using TF-IDF features."
   ]
  },
  {
   "cell_type": "code",
   "execution_count": null,
   "id": "707ce81e",
   "metadata": {},
   "outputs": [],
   "source": [
    "y_pred_tfidf = []\n",
    "y_true = []\n",
    "for text_batch, label_batch in tqdm(test_ds.take(1)):\n",
    "    features = get_tfidf(text_batch)\n",
    "    \n",
    "    [y_pred_tfidf.append(prediction) for prediction in classifier_tfidf.predict(features)]\n",
    "    [y_true.append(label_list) for label_list in label_batch]"
   ]
  },
  {
   "cell_type": "markdown",
   "id": "25dd2b66",
   "metadata": {},
   "source": [
    "Acquiring accuracy."
   ]
  },
  {
   "cell_type": "code",
   "execution_count": null,
   "id": "61665e42",
   "metadata": {},
   "outputs": [],
   "source": [
    "y_pred_tfhub"
   ]
  },
  {
   "cell_type": "code",
   "execution_count": 15,
   "id": "f60d4704",
   "metadata": {},
   "outputs": [
    {
     "data": {
      "text/plain": [
       "0.78125"
      ]
     },
     "execution_count": 15,
     "metadata": {},
     "output_type": "execute_result"
    }
   ],
   "source": [
    "accuracy_score(y_true, y_pred_tfhub)"
   ]
  },
  {
   "cell_type": "code",
   "execution_count": null,
   "id": "e82a3cab",
   "metadata": {},
   "outputs": [],
   "source": [
    "accuracy_score(y_true, y_pred_tfidf)"
   ]
  }
 ],
 "metadata": {
  "kernelspec": {
   "display_name": "Python 3 (ipykernel)",
   "language": "python",
   "name": "python3"
  },
  "language_info": {
   "codemirror_mode": {
    "name": "ipython",
    "version": 3
   },
   "file_extension": ".py",
   "mimetype": "text/x-python",
   "name": "python",
   "nbconvert_exporter": "python",
   "pygments_lexer": "ipython3",
   "version": "3.9.7"
  }
 },
 "nbformat": 4,
 "nbformat_minor": 5
}
