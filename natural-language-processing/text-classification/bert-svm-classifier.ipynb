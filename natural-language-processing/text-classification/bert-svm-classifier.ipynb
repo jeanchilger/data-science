{
 "cells": [
  {
   "cell_type": "markdown",
   "id": "839dd11b",
   "metadata": {},
   "source": [
    "# Classifying text with BERT and SVM"
   ]
  },
  {
   "cell_type": "markdown",
   "id": "c51d3ba1",
   "metadata": {},
   "source": [
    "In this approach, we'll use BERT embeddings as input features to a SVM classifier."
   ]
  },
  {
   "cell_type": "code",
   "execution_count": 46,
   "id": "3ca4037a",
   "metadata": {},
   "outputs": [],
   "source": [
    "import os\n",
    "import shutil\n",
    "import re\n",
    "import numpy as np\n",
    "\n",
    "import tensorflow as tf\n",
    "import tensorflow_hub as hub\n",
    "import tensorflow_text as text\n",
    "\n",
    "import matplotlib.pyplot as plt\n",
    "\n",
    "from sklearn import svm\n",
    "from sklearn.metrics import accuracy_score\n",
    "from sklearn.feature_extraction.text import TfidfVectorizer\n",
    "from sklearn.feature_extraction.text import ENGLISH_STOP_WORDS\n",
    "\n",
    "from nltk.tokenize import word_tokenize\n",
    "from nltk.stem.porter import PorterStemmer\n",
    "\n",
    "from bs4 import BeautifulSoup\n",
    "\n",
    "from tqdm.notebook import tqdm\n",
    "\n",
    "tf.get_logger().setLevel('ERROR')"
   ]
  },
  {
   "cell_type": "markdown",
   "id": "cfbeed4e",
   "metadata": {},
   "source": [
    "## Dataset"
   ]
  },
  {
   "cell_type": "markdown",
   "id": "459b82be",
   "metadata": {},
   "source": [
    "The dataset used is the IMDb reviews dataset (available at [Large Movie Review Dataset](https://ai.stanford.edu/~amaas/data/sentiment/))."
   ]
  },
  {
   "cell_type": "code",
   "execution_count": 47,
   "id": "b5dbcf00",
   "metadata": {},
   "outputs": [],
   "source": [
    "url = 'https://ai.stanford.edu/~amaas/data/sentiment/aclImdb_v1.tar.gz'\n",
    "\n",
    "dataset = tf.keras.utils.get_file(\n",
    "        'aclImdb_v1.tar.gz', url,\n",
    "        untar=True, cache_dir='../../data/aclImdb',\n",
    "        cache_subdir='')\n",
    "\n",
    "dataset_dir = os.path.join(os.path.dirname(dataset), 'aclImdb')\n",
    "\n",
    "train_dir = os.path.join(dataset_dir, 'train')\n",
    "\n",
    "# remove unused folders to make it easier to load the data\n",
    "remove_dir = os.path.join(train_dir, 'unsup')\n",
    "shutil.rmtree(remove_dir)"
   ]
  },
  {
   "cell_type": "markdown",
   "id": "d7e3b368",
   "metadata": {},
   "source": [
    "The raw dataset has train and test sets, but lacks a validation set. 20% of train set will be used to validation."
   ]
  },
  {
   "cell_type": "code",
   "execution_count": 48,
   "id": "b1441f7c",
   "metadata": {},
   "outputs": [
    {
     "name": "stdout",
     "output_type": "stream",
     "text": [
      "Found 25000 files belonging to 2 classes.\n",
      "Using 20000 files for training.\n"
     ]
    }
   ],
   "source": [
    "AUTOTUNE = tf.data.AUTOTUNE\n",
    "batch_size = 16\n",
    "seed = 42\n",
    "\n",
    "raw_train_ds = tf.keras.utils.text_dataset_from_directory(\n",
    "    os.path.join(dataset_dir, 'train'),\n",
    "    batch_size=batch_size,\n",
    "    validation_split=0.2,\n",
    "    subset='training',\n",
    "    seed=seed)\n",
    "\n",
    "class_names = raw_train_ds.class_names\n",
    "train_ds = raw_train_ds.cache().prefetch(buffer_size=AUTOTUNE)"
   ]
  },
  {
   "cell_type": "code",
   "execution_count": 49,
   "id": "2ed62535",
   "metadata": {},
   "outputs": [
    {
     "name": "stdout",
     "output_type": "stream",
     "text": [
      "Found 25000 files belonging to 2 classes.\n",
      "Using 5000 files for validation.\n"
     ]
    }
   ],
   "source": [
    "val_ds = tf.keras.utils.text_dataset_from_directory(\n",
    "    os.path.join(dataset_dir, 'train'),\n",
    "    batch_size=batch_size,\n",
    "    validation_split=0.2,\n",
    "    subset='validation',\n",
    "    seed=seed)\n",
    "\n",
    "val_ds = val_ds.cache().prefetch(buffer_size=AUTOTUNE)"
   ]
  },
  {
   "cell_type": "code",
   "execution_count": 50,
   "id": "be6ff046",
   "metadata": {},
   "outputs": [
    {
     "name": "stdout",
     "output_type": "stream",
     "text": [
      "Found 25000 files belonging to 2 classes.\n"
     ]
    }
   ],
   "source": [
    "test_ds = tf.keras.utils.text_dataset_from_directory(\n",
    "    os.path.join(dataset_dir, 'test'),\n",
    "    batch_size=batch_size)\n",
    "\n",
    "test_ds = test_ds.cache().prefetch(buffer_size=AUTOTUNE)"
   ]
  },
  {
   "cell_type": "markdown",
   "id": "f3f6173e",
   "metadata": {},
   "source": [
    "Analyze some of the reviews to ensure everything is working so far:"
   ]
  },
  {
   "cell_type": "code",
   "execution_count": 51,
   "id": "2c617aab",
   "metadata": {},
   "outputs": [
    {
     "name": "stdout",
     "output_type": "stream",
     "text": [
      "Review: b'\"Pandemonium\" is a horror movie spoof that comes off more stupid than funny. Believe me when I tell you, I love comedies. Especially comedy spoofs. \"Airplane\", \"The Naked Gun\" trilogy, \"Blazing Saddles\", \"High Anxiety\", and \"Spaceballs\" are some of my favorite comedies that spoof a particular genre. \"Pandemonium\" is not up there with those films. Most of the scenes in this movie had me sitting there in stunned silence because the movie wasn\\'t all that funny. There are a few laughs in the film, but when you watch a comedy, you expect to laugh a lot more than a few times and that\\'s all this film has going for it. Geez, \"Scream\" had more laughs than this film and that was more of a horror film. How bizarre is that?<br /><br />*1/2 (out of four)'\n",
      "Label : 0 (neg)\n",
      "\n",
      "Review: b\"I pity people calling kamal hassan 'ulaganaayakan' maybe for them ulagam is tollywood ! comeon guys..this movie is a thriller without thrill..<br /><br />come out of your ulagam and just watch some high class thrillers like The Usual Suspects or even The Silence of the Lambs.<br /><br />technically good but style over substance kamal doesn't look like a police officer, there is no thrill whatsoever dragging and boring till end you might be saving 3 valuable hrs of your life if u skip watching this movie.<br /><br />kamal at his best is the best in tollywood\"\n",
      "Label : 0 (neg)\n",
      "\n",
      "Review: b'Great documentary about the lives of NY firefighters during the worst terrorist attack of all time.. That reason alone is why this should be a must see collectors item.. What shocked me was not only the attacks, but the\"High Fat Diet\" and physical appearance of some of these firefighters. I think a lot of Doctors would agree with me that,in the physical shape they were in, some of these firefighters would NOT of made it to the 79th floor carrying over 60 lbs of gear. Having said that i now have a greater respect for firefighters and i realize becoming a firefighter is a life altering job. The French have a history of making great documentary\\'s and that is what this is, a Great Documentary.....'\n",
      "Label : 1 (pos)\n",
      "\n"
     ]
    },
    {
     "name": "stderr",
     "output_type": "stream",
     "text": [
      "2021-12-18 17:58:31.556509: W tensorflow/core/kernels/data/cache_dataset_ops.cc:768] The calling iterator did not fully read the dataset being cached. In order to avoid unexpected truncation of the dataset, the partially cached contents of the dataset  will be discarded. This can happen if you have an input pipeline similar to `dataset.cache().take(k).repeat()`. You should use `dataset.take(k).cache().repeat()` instead.\n"
     ]
    }
   ],
   "source": [
    "for text_batch, label_batch in train_ds.take(1):\n",
    "    # we'll print 3 reviews from the batch\n",
    "    for i in range(3):\n",
    "        print(f'Review: {text_batch.numpy()[i]}')\n",
    "        label = label_batch.numpy()[i]\n",
    "        print(f'Label : {label} ({class_names[label]})')\n",
    "        print()"
   ]
  },
  {
   "cell_type": "markdown",
   "id": "3ac881d1",
   "metadata": {},
   "source": [
    "## Loading model from TensorFlow HUB"
   ]
  },
  {
   "cell_type": "code",
   "execution_count": 52,
   "id": "fd7f0f72",
   "metadata": {},
   "outputs": [],
   "source": [
    "def get_tfhub_model(use_sequences=False):\n",
    "    model_size = [\n",
    "        (2, 128, 2),\n",
    "        (6, 256, 4),\n",
    "        (10, 256, 4),\n",
    "        (2, 768, 12),\n",
    "        (12, 768, 12),\n",
    "    ][3]\n",
    "\n",
    "    # Number of layers (i.e., residual blocks)\n",
    "    L = model_size[0]\n",
    "\n",
    "    # Size of hidden layers\n",
    "    H = model_size[1]\n",
    "\n",
    "    # Number of attention heads\n",
    "    A = model_size[2]\n",
    "\n",
    "    tfhub_handle_encoder = f\"https://tfhub.dev/tensorflow/small_bert/bert_en_uncased_L-{L}_H-{H}_A-{A}/2\"\n",
    "    tfhub_handle_preprocess = \"https://tfhub.dev/tensorflow/bert_en_uncased_preprocess/3\"\n",
    "    \n",
    "    input_layer = tf.keras.layers.Input(shape=(), dtype=tf.string, name='text')\n",
    "    preprocessing_layer = hub.KerasLayer(tfhub_handle_preprocess, name='preprocessing')\n",
    "    \n",
    "    encoder_inputs = preprocessing_layer(input_layer)\n",
    "    encoder = hub.KerasLayer(tfhub_handle_encoder, trainable=True, name='BERT_encoder')\n",
    "    outputs = encoder(encoder_inputs)\n",
    "    \n",
    "    if use_sequences:\n",
    "        return tf.keras.Model(input_layer, outputs['sequence_output'])\n",
    "    \n",
    "    return tf.keras.Model(input_layer, outputs['pooled_output'])"
   ]
  },
  {
   "cell_type": "markdown",
   "id": "3a418437",
   "metadata": {},
   "source": [
    "## Preparing the feature extractor"
   ]
  },
  {
   "cell_type": "markdown",
   "id": "236fa580",
   "metadata": {},
   "source": [
    "The feature extractor simply returns the output from the model."
   ]
  },
  {
   "cell_type": "code",
   "execution_count": 58,
   "id": "60e63d74",
   "metadata": {},
   "outputs": [],
   "source": [
    "def get_features(model, X, use_sequence=True):\n",
    "    model_output = model(X)\n",
    "\n",
    "    if use_sequence:\n",
    "        new_output = tf.math.reduce_mean(model_output, 1)\n",
    "\n",
    "        return new_output\n",
    "    \n",
    "    return model_output"
   ]
  },
  {
   "cell_type": "code",
   "execution_count": 54,
   "id": "ad7e84ad",
   "metadata": {},
   "outputs": [],
   "source": [
    "def get_preprocessed_text(text):\n",
    "    text = text.lower()\n",
    "    \n",
    "    soup = BeautifulSoup(text, 'html.parser')\n",
    "    text = soup.get_text()\n",
    "    \n",
    "    text = re.sub('[!\"#$%&\\'()*+,-./:;<=>?@[\\\\]^_`{|}~]+', ' ', text)\n",
    "    \n",
    "    tokens = word_tokenize(text)\n",
    "    \n",
    "    stemmer = PorterStemmer()\n",
    "    stemmed = [stemmer.stem(token) for token in tokens if token not in ENGLISH_STOP_WORDS]\n",
    "    \n",
    "    return ' '.join(stemmed)"
   ]
  },
  {
   "cell_type": "markdown",
   "id": "ef128ab7",
   "metadata": {},
   "source": [
    "## Preparing the classifier"
   ]
  },
  {
   "cell_type": "markdown",
   "id": "a7c59128",
   "metadata": {},
   "source": [
    "For the classifier, a simple SVM Classifier will be used."
   ]
  },
  {
   "cell_type": "code",
   "execution_count": 55,
   "id": "3a57b9bc",
   "metadata": {},
   "outputs": [],
   "source": [
    "classifier_tfhub = svm.SVC()\n",
    "classifier_tfidf = svm.SVC()\n",
    "classifier_transformers = svm.SVC()"
   ]
  },
  {
   "cell_type": "markdown",
   "id": "602e0569",
   "metadata": {},
   "source": [
    "## Making predictions"
   ]
  },
  {
   "cell_type": "code",
   "execution_count": 56,
   "id": "052c1d9a",
   "metadata": {},
   "outputs": [],
   "source": [
    "tfhub_model = get_tfhub_model(True)"
   ]
  },
  {
   "cell_type": "markdown",
   "id": "f42468c3",
   "metadata": {},
   "source": [
    "Training with TF Hub model."
   ]
  },
  {
   "cell_type": "code",
   "execution_count": 59,
   "id": "c86c4fbd",
   "metadata": {},
   "outputs": [
    {
     "data": {
      "application/vnd.jupyter.widget-view+json": {
       "model_id": "f7d30945cfae4437b55b446d83f3cd46",
       "version_major": 2,
       "version_minor": 0
      },
      "text/plain": [
       "  0%|          | 0/1250 [00:00<?, ?it/s]"
      ]
     },
     "metadata": {},
     "output_type": "display_data"
    },
    {
     "name": "stdout",
     "output_type": "stream",
     "text": [
      "20000\n"
     ]
    },
    {
     "data": {
      "text/plain": [
       "SVC()"
      ]
     },
     "execution_count": 59,
     "metadata": {},
     "output_type": "execute_result"
    }
   ],
   "source": [
    "X_tfhub = []\n",
    "y_tfhub = []\n",
    "for text_batch, label_batch in tqdm(train_ds):\n",
    "    features_tfhub = get_features(tfhub_model, text_batch, use_sequence=True)\n",
    "    \n",
    "    [X_tfhub.append(f) for f in features_tfhub]\n",
    "    [y_tfhub.append(l) for l in label_batch]\n",
    "    \n",
    "print(len(X_tfhub))\n",
    "\n",
    "classifier_tfhub.fit(X=X_tfhub, y=y_tfhub)"
   ]
  },
  {
   "cell_type": "markdown",
   "id": "aacc6d9a",
   "metadata": {},
   "source": [
    "Predicting values using tfhub's BERT features."
   ]
  },
  {
   "cell_type": "code",
   "execution_count": 60,
   "id": "4c1e4066",
   "metadata": {},
   "outputs": [
    {
     "data": {
      "application/vnd.jupyter.widget-view+json": {
       "model_id": "2c7785bd09644811b9304cb58b5e0b59",
       "version_major": 2,
       "version_minor": 0
      },
      "text/plain": [
       "  0%|          | 0/1563 [00:00<?, ?it/s]"
      ]
     },
     "metadata": {},
     "output_type": "display_data"
    }
   ],
   "source": [
    "y_pred_tfhub = []\n",
    "y_true_tfhub = []\n",
    "for text_batch, label_batch in tqdm(test_ds):\n",
    "    features = get_features(tfhub_model, text_batch)\n",
    "    \n",
    "    [y_pred_tfhub.append(prediction) for prediction in classifier_tfhub.predict(features)]\n",
    "    [y_true_tfhub.append(label_list) for label_list in label_batch]"
   ]
  },
  {
   "cell_type": "markdown",
   "id": "850fb481",
   "metadata": {},
   "source": [
    "Training With TF-IDF features."
   ]
  },
  {
   "cell_type": "code",
   "execution_count": 61,
   "id": "31c97efc",
   "metadata": {},
   "outputs": [
    {
     "data": {
      "application/vnd.jupyter.widget-view+json": {
       "model_id": "5e9fe057ca804fec9eae08c283c237fd",
       "version_major": 2,
       "version_minor": 0
      },
      "text/plain": [
       "  0%|          | 0/1250 [00:00<?, ?it/s]"
      ]
     },
     "metadata": {},
     "output_type": "display_data"
    }
   ],
   "source": [
    "X_tfidf = []\n",
    "y_tfidf = []\n",
    "for text_batch, label_batch in tqdm(train_ds):\n",
    "    [X_tfidf.append(get_preprocessed_text(doc.numpy())) for doc in text_batch]\n",
    "    [y_tfidf.append(l) for l in label_batch]"
   ]
  },
  {
   "cell_type": "code",
   "execution_count": 62,
   "id": "5a789315",
   "metadata": {},
   "outputs": [
    {
     "data": {
      "text/plain": [
       "SVC()"
      ]
     },
     "execution_count": 62,
     "metadata": {},
     "output_type": "execute_result"
    }
   ],
   "source": [
    "tfidf_vectorizer = TfidfVectorizer()\n",
    "tfidf_vectorizer.fit(X_tfidf)\n",
    "\n",
    "features_tfidf = tfidf_vectorizer.transform(X_tfidf)\n",
    "classifier_tfidf.fit(X=features_tfidf, y=y_tfidf)"
   ]
  },
  {
   "cell_type": "markdown",
   "id": "38096950",
   "metadata": {},
   "source": [
    "Predic values using TF-IDF features."
   ]
  },
  {
   "cell_type": "code",
   "execution_count": null,
   "id": "707ce81e",
   "metadata": {},
   "outputs": [
    {
     "data": {
      "application/vnd.jupyter.widget-view+json": {
       "model_id": "17457115c1d9439a8e164d6ad24d54eb",
       "version_major": 2,
       "version_minor": 0
      },
      "text/plain": [
       "  0%|          | 0/1563 [00:00<?, ?it/s]"
      ]
     },
     "metadata": {},
     "output_type": "display_data"
    }
   ],
   "source": [
    "y_pred_tfidf = []\n",
    "y_true_tfidf = []\n",
    "for text_batch, label_batch in tqdm(test_ds):\n",
    "    for doc in text_batch:\n",
    "        features = tfidf_vectorizer.transform([get_preprocessed_text(doc.numpy())])\n",
    "        y_pred_tfidf.append(classifier_tfidf.predict(features))\n",
    "        \n",
    "    [y_true_tfidf.append(label_list) for label_list in label_batch]"
   ]
  },
  {
   "cell_type": "markdown",
   "id": "25dd2b66",
   "metadata": {},
   "source": [
    "Acquiring accuracy."
   ]
  },
  {
   "cell_type": "code",
   "execution_count": null,
   "id": "f60d4704",
   "metadata": {},
   "outputs": [],
   "source": [
    "accuracy_score(y_true_tfhub, y_pred_tfhub)"
   ]
  },
  {
   "cell_type": "code",
   "execution_count": null,
   "id": "e82a3cab",
   "metadata": {},
   "outputs": [],
   "source": [
    "accuracy_score(y_true_tfidf, y_pred_tfidf)"
   ]
  }
 ],
 "metadata": {
  "kernelspec": {
   "display_name": "Python 3 (ipykernel)",
   "language": "python",
   "name": "python3"
  },
  "language_info": {
   "codemirror_mode": {
    "name": "ipython",
    "version": 3
   },
   "file_extension": ".py",
   "mimetype": "text/x-python",
   "name": "python",
   "nbconvert_exporter": "python",
   "pygments_lexer": "ipython3",
   "version": "3.9.7"
  }
 },
 "nbformat": 4,
 "nbformat_minor": 5
}
