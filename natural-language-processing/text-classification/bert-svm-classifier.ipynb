{
 "cells": [
  {
   "cell_type": "markdown",
   "id": "839dd11b",
   "metadata": {},
   "source": [
    "# Classifying text with BERT and SVM"
   ]
  },
  {
   "cell_type": "markdown",
   "id": "c51d3ba1",
   "metadata": {},
   "source": [
    "In this approach, we'll use BERT embeddings as input features to a SVM classifier."
   ]
  },
  {
   "cell_type": "code",
   "execution_count": 93,
   "id": "3ca4037a",
   "metadata": {},
   "outputs": [],
   "source": [
    "import os\n",
    "import shutil\n",
    "import re\n",
    "import numpy as np\n",
    "\n",
    "import tensorflow as tf\n",
    "import tensorflow_hub as hub\n",
    "import tensorflow_text as text\n",
    "\n",
    "import matplotlib.pyplot as plt\n",
    "\n",
    "from sklearn import svm\n",
    "from sklearn.metrics import accuracy_score\n",
    "from sklearn.feature_extraction.text import TfidfVectorizer\n",
    "from sklearn.feature_extraction.text import ENGLISH_STOP_WORDS\n",
    "\n",
    "from nltk.tokenize import word_tokenize\n",
    "from nltk.stem.porter import PorterStemmer\n",
    "\n",
    "from bs4 import BeautifulSoup\n",
    "\n",
    "from tqdm.notebook import tqdm\n",
    "\n",
    "tf.get_logger().setLevel('ERROR')"
   ]
  },
  {
   "cell_type": "markdown",
   "id": "cfbeed4e",
   "metadata": {},
   "source": [
    "## Dataset"
   ]
  },
  {
   "cell_type": "markdown",
   "id": "459b82be",
   "metadata": {},
   "source": [
    "The dataset used is the IMDb reviews dataset (available at [Large Movie Review Dataset](https://ai.stanford.edu/~amaas/data/sentiment/))."
   ]
  },
  {
   "cell_type": "code",
   "execution_count": 94,
   "id": "b5dbcf00",
   "metadata": {},
   "outputs": [],
   "source": [
    "url = 'https://ai.stanford.edu/~amaas/data/sentiment/aclImdb_v1.tar.gz'\n",
    "\n",
    "dataset = tf.keras.utils.get_file(\n",
    "        'aclImdb_v1.tar.gz', url,\n",
    "        untar=True, cache_dir='../../data/aclImdb',\n",
    "        cache_subdir='')\n",
    "\n",
    "dataset_dir = os.path.join(os.path.dirname(dataset), 'aclImdb')\n",
    "\n",
    "train_dir = os.path.join(dataset_dir, 'train')\n",
    "\n",
    "# remove unused folders to make it easier to load the data\n",
    "remove_dir = os.path.join(train_dir, 'unsup')\n",
    "shutil.rmtree(remove_dir)"
   ]
  },
  {
   "cell_type": "markdown",
   "id": "d7e3b368",
   "metadata": {},
   "source": [
    "The raw dataset has train and test sets, but lacks a validation set. 20% of train set will be used to validation."
   ]
  },
  {
   "cell_type": "code",
   "execution_count": 95,
   "id": "b1441f7c",
   "metadata": {},
   "outputs": [
    {
     "name": "stdout",
     "output_type": "stream",
     "text": [
      "Found 25000 files belonging to 2 classes.\n",
      "Using 20000 files for training.\n"
     ]
    }
   ],
   "source": [
    "AUTOTUNE = tf.data.AUTOTUNE\n",
    "batch_size = 32\n",
    "seed = 42\n",
    "\n",
    "raw_train_ds = tf.keras.utils.text_dataset_from_directory(\n",
    "    os.path.join(dataset_dir, 'train'),\n",
    "    batch_size=batch_size,\n",
    "    validation_split=0.2,\n",
    "    subset='training',\n",
    "    seed=seed)\n",
    "\n",
    "class_names = raw_train_ds.class_names\n",
    "train_ds = raw_train_ds.cache().prefetch(buffer_size=AUTOTUNE)"
   ]
  },
  {
   "cell_type": "code",
   "execution_count": 96,
   "id": "2ed62535",
   "metadata": {},
   "outputs": [
    {
     "name": "stdout",
     "output_type": "stream",
     "text": [
      "Found 25000 files belonging to 2 classes.\n",
      "Using 5000 files for validation.\n"
     ]
    }
   ],
   "source": [
    "val_ds = tf.keras.utils.text_dataset_from_directory(\n",
    "    os.path.join(dataset_dir, 'train'),\n",
    "    batch_size=batch_size,\n",
    "    validation_split=0.2,\n",
    "    subset='validation',\n",
    "    seed=seed)\n",
    "\n",
    "val_ds = val_ds.cache().prefetch(buffer_size=AUTOTUNE)"
   ]
  },
  {
   "cell_type": "code",
   "execution_count": 97,
   "id": "be6ff046",
   "metadata": {},
   "outputs": [
    {
     "name": "stdout",
     "output_type": "stream",
     "text": [
      "Found 25000 files belonging to 2 classes.\n"
     ]
    }
   ],
   "source": [
    "test_ds = tf.keras.utils.text_dataset_from_directory(\n",
    "    os.path.join(dataset_dir, 'test'),\n",
    "    batch_size=batch_size)\n",
    "\n",
    "test_ds = test_ds.cache().prefetch(buffer_size=AUTOTUNE)"
   ]
  },
  {
   "cell_type": "markdown",
   "id": "f3f6173e",
   "metadata": {},
   "source": [
    "Analyze some of the reviews to ensure everything is working so far:"
   ]
  },
  {
   "cell_type": "code",
   "execution_count": 98,
   "id": "2c617aab",
   "metadata": {},
   "outputs": [
    {
     "name": "stdout",
     "output_type": "stream",
     "text": [
      "Review: b'\"Pandemonium\" is a horror movie spoof that comes off more stupid than funny. Believe me when I tell you, I love comedies. Especially comedy spoofs. \"Airplane\", \"The Naked Gun\" trilogy, \"Blazing Saddles\", \"High Anxiety\", and \"Spaceballs\" are some of my favorite comedies that spoof a particular genre. \"Pandemonium\" is not up there with those films. Most of the scenes in this movie had me sitting there in stunned silence because the movie wasn\\'t all that funny. There are a few laughs in the film, but when you watch a comedy, you expect to laugh a lot more than a few times and that\\'s all this film has going for it. Geez, \"Scream\" had more laughs than this film and that was more of a horror film. How bizarre is that?<br /><br />*1/2 (out of four)'\n",
      "Label : 0 (neg)\n",
      "\n",
      "Review: b\"David Mamet is a very interesting and a very un-equal director. His first movie 'House of Games' was the one I liked best, and it set a series of films with characters whose perspective of life changes as they get into complicated situations, and so does the perspective of the viewer.<br /><br />So is 'Homicide' which from the title tries to set the mind of the viewer to the usual crime drama. The principal characters are two cops, one Jewish and one Irish who deal with a racially charged area. The murder of an old Jewish shop owner who proves to be an ancient veteran of the Israeli Independence war triggers the Jewish identity in the mind and heart of the Jewish detective.<br /><br />This is were the flaws of the film are the more obvious. The process of awakening is theatrical and hard to believe, the group of Jewish militants is operatic, and the way the detective eventually walks to the final violent confrontation is pathetic. The end of the film itself is Mamet-like smart, but disappoints from a human emotional perspective.<br /><br />Joe Mantegna and William Macy give strong performances, but the flaws of the story are too evident to be easily compensated.\"\n",
      "Label : 0 (neg)\n",
      "\n",
      "Review: b'Great documentary about the lives of NY firefighters during the worst terrorist attack of all time.. That reason alone is why this should be a must see collectors item.. What shocked me was not only the attacks, but the\"High Fat Diet\" and physical appearance of some of these firefighters. I think a lot of Doctors would agree with me that,in the physical shape they were in, some of these firefighters would NOT of made it to the 79th floor carrying over 60 lbs of gear. Having said that i now have a greater respect for firefighters and i realize becoming a firefighter is a life altering job. The French have a history of making great documentary\\'s and that is what this is, a Great Documentary.....'\n",
      "Label : 1 (pos)\n",
      "\n"
     ]
    },
    {
     "name": "stderr",
     "output_type": "stream",
     "text": [
      "2021-12-12 22:08:35.449137: W tensorflow/core/kernels/data/cache_dataset_ops.cc:768] The calling iterator did not fully read the dataset being cached. In order to avoid unexpected truncation of the dataset, the partially cached contents of the dataset  will be discarded. This can happen if you have an input pipeline similar to `dataset.cache().take(k).repeat()`. You should use `dataset.take(k).cache().repeat()` instead.\n"
     ]
    }
   ],
   "source": [
    "for text_batch, label_batch in train_ds.take(1):\n",
    "    # we'll print 3 reviews from the batch\n",
    "    for i in range(3):\n",
    "        print(f'Review: {text_batch.numpy()[i]}')\n",
    "        label = label_batch.numpy()[i]\n",
    "        print(f'Label : {label} ({class_names[label]})')\n",
    "        print()"
   ]
  },
  {
   "cell_type": "markdown",
   "id": "3ac881d1",
   "metadata": {},
   "source": [
    "## Loading model from TensorFlow HUB"
   ]
  },
  {
   "cell_type": "code",
   "execution_count": 99,
   "id": "fd7f0f72",
   "metadata": {},
   "outputs": [],
   "source": [
    "def get_tfhub_model():\n",
    "    model_size = [\n",
    "        (2, 128, 2),\n",
    "        (6, 256, 4),\n",
    "        (10, 256, 4),\n",
    "        (2, 768, 12),\n",
    "        (12, 768, 12),\n",
    "    ][4]\n",
    "\n",
    "    # Number of layers (i.e., residual blocks)\n",
    "    L = model_size[0]\n",
    "\n",
    "    # Size of hidden layers\n",
    "    H = model_size[1]\n",
    "\n",
    "    # Number of attention heads\n",
    "    A = model_size[2]\n",
    "\n",
    "    tfhub_handle_encoder = f\"https://tfhub.dev/tensorflow/small_bert/bert_en_uncased_L-{L}_H-{H}_A-{A}/2\"\n",
    "    tfhub_handle_preprocess = \"https://tfhub.dev/tensorflow/bert_en_uncased_preprocess/3\"\n",
    "    \n",
    "    input_layer = tf.keras.layers.Input(shape=(), dtype=tf.string, name='text')\n",
    "    preprocessing_layer = hub.KerasLayer(tfhub_handle_preprocess, name='preprocessing')\n",
    "    \n",
    "    encoder_inputs = preprocessing_layer(input_layer)\n",
    "    encoder = hub.KerasLayer(tfhub_handle_encoder, trainable=True, name='BERT_encoder')\n",
    "    outputs = encoder(encoder_inputs)\n",
    "    \n",
    "    return tf.keras.Model(input_layer, outputs['pooled_output'])"
   ]
  },
  {
   "cell_type": "markdown",
   "id": "3a418437",
   "metadata": {},
   "source": [
    "## Preparing the feature extractor"
   ]
  },
  {
   "cell_type": "markdown",
   "id": "236fa580",
   "metadata": {},
   "source": [
    "The feature extractor simply returns the output from the model."
   ]
  },
  {
   "cell_type": "code",
   "execution_count": 100,
   "id": "60e63d74",
   "metadata": {},
   "outputs": [],
   "source": [
    "def get_features(model, X):\n",
    "    model_output = model(X)\n",
    "\n",
    "    return model_output"
   ]
  },
  {
   "cell_type": "code",
   "execution_count": 101,
   "id": "ad7e84ad",
   "metadata": {},
   "outputs": [],
   "source": [
    "def get_preprocessed_text(text):\n",
    "    text = text.lower()\n",
    "    \n",
    "    soup = BeautifulSoup(text, 'html.parser')\n",
    "    text = soup.get_text()\n",
    "    \n",
    "    text = re.sub('[!\"#$%&\\'()*+,-./:;<=>?@[\\\\]^_`{|}~]+', ' ', text)\n",
    "    \n",
    "    tokens = word_tokenize(text)\n",
    "    \n",
    "    stemmer = PorterStemmer()\n",
    "    stemmed = [stemmer.stem(token) for token in tokens if token not in ENGLISH_STOP_WORDS]\n",
    "    \n",
    "    return ' '.join(stemmed)\n",
    "    \n",
    "\n",
    "# def get_tfidf(X):\n",
    "    \n",
    "    "
   ]
  },
  {
   "cell_type": "markdown",
   "id": "ef128ab7",
   "metadata": {},
   "source": [
    "## Preparing the classifier"
   ]
  },
  {
   "cell_type": "markdown",
   "id": "a7c59128",
   "metadata": {},
   "source": [
    "For the classifier, a simple SVM Classifier will be used."
   ]
  },
  {
   "cell_type": "code",
   "execution_count": 102,
   "id": "3a57b9bc",
   "metadata": {},
   "outputs": [],
   "source": [
    "classifier_tfhub = svm.SVC()\n",
    "classifier_tfidf = svm.SVC()"
   ]
  },
  {
   "cell_type": "markdown",
   "id": "602e0569",
   "metadata": {},
   "source": [
    "## Making predictions"
   ]
  },
  {
   "cell_type": "code",
   "execution_count": 103,
   "id": "052c1d9a",
   "metadata": {},
   "outputs": [],
   "source": [
    "tfhub_model = get_tfhub_model()"
   ]
  },
  {
   "cell_type": "markdown",
   "id": "f42468c3",
   "metadata": {},
   "source": [
    "Training."
   ]
  },
  {
   "cell_type": "code",
   "execution_count": 104,
   "id": "c86c4fbd",
   "metadata": {},
   "outputs": [
    {
     "data": {
      "application/vnd.jupyter.widget-view+json": {
       "model_id": "c3ff368d63b44c4fb36f334d4308b892",
       "version_major": 2,
       "version_minor": 0
      },
      "text/plain": [
       "  0%|          | 0/625 [00:00<?, ?it/s]"
      ]
     },
     "metadata": {},
     "output_type": "display_data"
    },
    {
     "name": "stdout",
     "output_type": "stream",
     "text": [
      "20000\n"
     ]
    },
    {
     "data": {
      "text/plain": [
       "SVC()"
      ]
     },
     "execution_count": 104,
     "metadata": {},
     "output_type": "execute_result"
    }
   ],
   "source": [
    "X_tfhub = []\n",
    "y_tfhub = []\n",
    "for text_batch, label_batch in tqdm(train_ds):\n",
    "    features_tfhub = get_features(tfhub_model, text_batch)\n",
    "    \n",
    "    [X_tfhub.append(f) for f in features_tfhub]\n",
    "    [y_tfhub.append(l) for l in label_batch]\n",
    "    \n",
    "print(len(X_tfhub))\n",
    "\n",
    "classifier_tfhub.fit(X=X_tfhub, y=y_tfhub)"
   ]
  },
  {
   "cell_type": "markdown",
   "id": "aacc6d9a",
   "metadata": {},
   "source": [
    "Predicting values using tfhub's BERT features."
   ]
  },
  {
   "cell_type": "code",
   "execution_count": 111,
   "id": "4c1e4066",
   "metadata": {},
   "outputs": [
    {
     "data": {
      "application/vnd.jupyter.widget-view+json": {
       "model_id": "073533346a0248e493c16977cefbf56b",
       "version_major": 2,
       "version_minor": 0
      },
      "text/plain": [
       "  0%|          | 0/782 [00:00<?, ?it/s]"
      ]
     },
     "metadata": {},
     "output_type": "display_data"
    }
   ],
   "source": [
    "y_pred_tfhub = []\n",
    "y_true_tfhub = []\n",
    "for text_batch, label_batch in tqdm(test_ds):\n",
    "    features = get_features(tfhub_model, text_batch)\n",
    "    \n",
    "    [y_pred_tfhub.append(prediction) for prediction in classifier_tfhub.predict(features)]\n",
    "    [y_true_tfhub.append(label_list) for label_list in label_batch]"
   ]
  },
  {
   "cell_type": "code",
   "execution_count": 106,
   "id": "31c97efc",
   "metadata": {},
   "outputs": [
    {
     "data": {
      "application/vnd.jupyter.widget-view+json": {
       "model_id": "24efe599a69c48ce9150b154ae05d8fb",
       "version_major": 2,
       "version_minor": 0
      },
      "text/plain": [
       "  0%|          | 0/625 [00:00<?, ?it/s]"
      ]
     },
     "metadata": {},
     "output_type": "display_data"
    }
   ],
   "source": [
    "X_tfidf = []\n",
    "y_tfidf = []\n",
    "for text_batch, label_batch in tqdm(train_ds):\n",
    "    [X_tfidf.append(get_preprocessed_text(doc.numpy())) for doc in text_batch]\n",
    "    [y_tfidf.append(l) for l in label_batch]"
   ]
  },
  {
   "cell_type": "code",
   "execution_count": 107,
   "id": "5a789315",
   "metadata": {},
   "outputs": [
    {
     "data": {
      "text/plain": [
       "SVC()"
      ]
     },
     "execution_count": 107,
     "metadata": {},
     "output_type": "execute_result"
    }
   ],
   "source": [
    "tfidf_vectorizer = TfidfVectorizer()\n",
    "tfidf_vectorizer.fit(X_tfidf)\n",
    "\n",
    "features_tfidf = tfidf_vectorizer.transform(X_tfidf)\n",
    "classifier_tfidf.fit(X=features_tfidf, y=y_tfidf)"
   ]
  },
  {
   "cell_type": "markdown",
   "id": "38096950",
   "metadata": {},
   "source": [
    "Predic values using TF-IDF features."
   ]
  },
  {
   "cell_type": "code",
   "execution_count": 108,
   "id": "707ce81e",
   "metadata": {},
   "outputs": [
    {
     "data": {
      "application/vnd.jupyter.widget-view+json": {
       "model_id": "be395692c9054f498c4be6a13c168dd1",
       "version_major": 2,
       "version_minor": 0
      },
      "text/plain": [
       "  0%|          | 0/782 [00:00<?, ?it/s]"
      ]
     },
     "metadata": {},
     "output_type": "display_data"
    }
   ],
   "source": [
    "y_pred_tfidf = []\n",
    "y_true_tfidf = []\n",
    "for text_batch, label_batch in tqdm(test_ds):\n",
    "    for doc in text_batch:\n",
    "        features = tfidf_vectorizer.transform([get_preprocessed_text(doc.numpy())])\n",
    "        y_pred_tfidf.append(classifier_tfidf.predict(features))\n",
    "        \n",
    "    [y_true_tfidf.append(label_list) for label_list in label_batch]"
   ]
  },
  {
   "cell_type": "markdown",
   "id": "25dd2b66",
   "metadata": {},
   "source": [
    "Acquiring accuracy."
   ]
  },
  {
   "cell_type": "code",
   "execution_count": 114,
   "id": "f60d4704",
   "metadata": {},
   "outputs": [
    {
     "data": {
      "text/plain": [
       "0.78468"
      ]
     },
     "execution_count": 114,
     "metadata": {},
     "output_type": "execute_result"
    }
   ],
   "source": [
    "accuracy_score(y_true_tfhub, y_pred_tfhub)"
   ]
  },
  {
   "cell_type": "code",
   "execution_count": 115,
   "id": "e82a3cab",
   "metadata": {},
   "outputs": [
    {
     "data": {
      "text/plain": [
       "0.87352"
      ]
     },
     "execution_count": 115,
     "metadata": {},
     "output_type": "execute_result"
    }
   ],
   "source": [
    "accuracy_score(y_true_tfidf, y_pred_tfidf)"
   ]
  }
 ],
 "metadata": {
  "kernelspec": {
   "display_name": "Python 3 (ipykernel)",
   "language": "python",
   "name": "python3"
  },
  "language_info": {
   "codemirror_mode": {
    "name": "ipython",
    "version": 3
   },
   "file_extension": ".py",
   "mimetype": "text/x-python",
   "name": "python",
   "nbconvert_exporter": "python",
   "pygments_lexer": "ipython3",
   "version": "3.9.7"
  }
 },
 "nbformat": 4,
 "nbformat_minor": 5
}
