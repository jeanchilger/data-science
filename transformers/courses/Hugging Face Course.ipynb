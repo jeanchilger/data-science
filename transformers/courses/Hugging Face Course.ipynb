{
 "cells": [
  {
   "cell_type": "markdown",
   "id": "1ce5e12a",
   "metadata": {},
   "source": [
    "Link to the course: https://huggingface.co/course"
   ]
  },
  {
   "cell_type": "markdown",
   "id": "89769fab",
   "metadata": {},
   "source": [
    "# Content"
   ]
  },
  {
   "cell_type": "code",
   "execution_count": null,
   "id": "d591ec55",
   "metadata": {},
   "outputs": [],
   "source": []
  },
  {
   "cell_type": "markdown",
   "id": "793f3f58",
   "metadata": {},
   "source": [
    "# 1. Transformers Models"
   ]
  },
  {
   "cell_type": "markdown",
   "id": "42045a84",
   "metadata": {},
   "source": [
    "The `pipeline` object from transformers library connects a model with all necessary preprocessing and postprocessing steps."
   ]
  },
  {
   "cell_type": "markdown",
   "id": "068b02a8",
   "metadata": {},
   "source": [
    "**Examples:**"
   ]
  },
  {
   "cell_type": "code",
   "execution_count": 1,
   "id": "71806161",
   "metadata": {
    "scrolled": true
   },
   "outputs": [
    {
     "name": "stderr",
     "output_type": "stream",
     "text": [
      "No model was supplied, defaulted to distilbert-base-uncased-finetuned-sst-2-english (https://huggingface.co/distilbert-base-uncased-finetuned-sst-2-english)\n",
      "2021-10-16 22:45:08.263901: I tensorflow/compiler/jit/xla_cpu_device.cc:41] Not creating XLA devices, tf_xla_enable_xla_devices not set\n",
      "2021-10-16 22:45:08.264575: I tensorflow/core/platform/cpu_feature_guard.cc:142] This TensorFlow binary is optimized with oneAPI Deep Neural Network Library (oneDNN) to use the following CPU instructions in performance-critical operations:  SSE4.1 SSE4.2 AVX AVX2 FMA\n",
      "To enable them in other operations, rebuild TensorFlow with the appropriate compiler flags.\n",
      "2021-10-16 22:45:08.267449: I tensorflow/core/common_runtime/process_util.cc:146] Creating new thread pool with default inter op setting: 2. Tune using inter_op_parallelism_threads for best performance.\n",
      "2021-10-16 22:45:08.284707: W tensorflow/python/util/util.cc:348] Sets are not currently considered sequences, but this may change in the future, so consider avoiding using them.\n",
      "All model checkpoint layers were used when initializing TFDistilBertForSequenceClassification.\n",
      "\n",
      "All the layers of TFDistilBertForSequenceClassification were initialized from the model checkpoint at distilbert-base-uncased-finetuned-sst-2-english.\n",
      "If your task is similar to the task the model of the checkpoint was trained on, you can already use TFDistilBertForSequenceClassification for predictions without further training.\n"
     ]
    },
    {
     "data": {
      "text/plain": [
       "[{'label': 'POSITIVE', 'score': 0.9598046541213989}]"
      ]
     },
     "execution_count": 1,
     "metadata": {},
     "output_type": "execute_result"
    }
   ],
   "source": [
    "from transformers import pipeline\n",
    "\n",
    "classifier = pipeline(\"sentiment-analysis\")\n",
    "print(classifier(\"I've been waiting for a HuggingFace course my whole life.\"))\n",
    "print(classifier([\n",
    "    \"I've been waiting for a HuggingFace course my whole life.\", \n",
    "    \"I hate this so much!\"\n",
    "]))"
   ]
  },
  {
   "cell_type": "markdown",
   "id": "ea10281c",
   "metadata": {},
   "source": [
    "A list with available pipelines may be found [here](https://huggingface.co/transformers/main_classes/pipelines.html)."
   ]
  },
  {
   "cell_type": "markdown",
   "id": "c0840b82",
   "metadata": {},
   "source": [
    "## How do Transformers work?"
   ]
  },
  {
   "cell_type": "markdown",
   "id": "951ae650",
   "metadata": {},
   "source": [
    "Language models, self-supervised learning, transfer learning."
   ]
  },
  {
   "cell_type": "markdown",
   "id": "5e933794",
   "metadata": {},
   "source": [
    "# 2. Using Hugging Face Transformers"
   ]
  },
  {
   "cell_type": "markdown",
   "id": "c3829113",
   "metadata": {},
   "source": [
    " # 3. Fine-tuning a pretrained model"
   ]
  },
  {
   "cell_type": "markdown",
   "id": "b4ac066b",
   "metadata": {},
   "source": [
    "# 4 Sharing models and tokenizers"
   ]
  }
 ],
 "metadata": {
  "kernelspec": {
   "display_name": "Python 3 (ipykernel)",
   "language": "python",
   "name": "python3"
  },
  "language_info": {
   "codemirror_mode": {
    "name": "ipython",
    "version": 3
   },
   "file_extension": ".py",
   "mimetype": "text/x-python",
   "name": "python",
   "nbconvert_exporter": "python",
   "pygments_lexer": "ipython3",
   "version": "3.9.7"
  }
 },
 "nbformat": 4,
 "nbformat_minor": 5
}
